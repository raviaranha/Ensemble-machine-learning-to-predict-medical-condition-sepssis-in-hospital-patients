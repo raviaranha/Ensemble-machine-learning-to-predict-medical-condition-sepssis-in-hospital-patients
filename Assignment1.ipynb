{
 "cells": [
  {
   "cell_type": "markdown",
   "id": "a12852e9",
   "metadata": {},
   "source": [
    "> <span style=\"font-size:1em;\"> </span> **Intoduction**\n",
    "\n",
    "> - This is an ML project to predict the probability of a patient having 'Sepssis' based on patient characterestics\n",
    "> - The project will follow a structured approach (see next section)\n",
    "> - The project also has markdown text to provide overall approach, critical analysis and ultimate judgement"
   ]
  },
  {
   "cell_type": "markdown",
   "id": "53c3ef96",
   "metadata": {},
   "source": [
    "> <span style=\"font-size:1em;\"> </span> **Project Approach (Summary)**\n",
    "\n",
    "> - The project starts with importing relevant python packages required for the analysis\n",
    "> - The training data for the analysis is imported next (The prediction data will be imported post model training)\n",
    "> - The **dataset characterestics** are explored next, including shape, summary statistics, data types, value and missing counts, distributions \n",
    ">  - Next, we will execute any column transformations, as needed at this step\n",
    ">  - We will look at unqiue values in each columns\n",
    "> - Next, we will **explore the data visually** using histograms, scatterplots, box plots and correlation plots\n",
    ">  - We will also document the observations from the exploratory analysis (and highlight variable interations to aid ML modeling) \n",
    "> - Next, we will **split data into train-validation sets** (to help understand accuracy and enable hyperparameter tuning)\n",
    ">  - We will also explore the similarities within the train-validation datasets\n",
    "> - Next, we will **implement normalization the data** to help ML models (We will fit on train data, and transform train/validation/test datasets)\n",
    "> - We will set up a **performance evaluation framework** to analyze ML models (We will primary look at the accuracy to finalize models, but will also explore f1 scores as part of the process)\n",
    "> - Next, we will run **multiple ML models**\n",
    ">  - This being a classification model, we will explore relevant ML models such as **Naive Bayes, Logistic Regression, Decision Trees & Random Forest**\n",
    ">  - Baseline models as well as tuned varients (hyper-parameter tuning) will be explored along with associated performance metrics\n",
    "> - Finally, a **champion model will be chosen** basis critical analysis and **predictions on test data** will be made using the chosen model\n",
    "\n",
    "\n",
    "> - \"Approach\" modules are shown in bold as **Module: [text]**\n",
    "\n",
    "> - \"Observation\" modules are shown in italics as <span style=\"font-size:1em;\"></span> ***Observations: [text]*** \n",
    "\n"
   ]
  },
  {
   "cell_type": "markdown",
   "id": "199f5f6f",
   "metadata": {},
   "source": [
    "> <span style=\"font-size:1em;\"></span> **Module: 1. Loading Packages**\n",
    "\n",
    "> - We load package related to dataframes, data processing, data visualization ML processes and the system (os, warnings)"
   ]
  },
  {
   "cell_type": "code",
   "execution_count": 2,
   "id": "5626e28c",
   "metadata": {},
   "outputs": [],
   "source": [
    "#Import required packages\n",
    "\n",
    "import pandas as pd\n",
    "import numpy as np\n",
    "import sklearn as sklearn\n",
    "import seaborn as sns\n",
    "import matplotlib.pyplot as plt\n",
    "import os\n",
    "import warnings\n",
    "from sklearn.preprocessing import StandardScaler\n",
    "from sklearn.model_selection import GridSearchCV\n",
    "from sklearn.metrics import classification_report\n",
    "from sklearn.metrics import confusion_matrix\n",
    "from sklearn.model_selection import cross_validate\n",
    "from sklearn.metrics import accuracy_score, make_scorer\n"
   ]
  },
  {
   "cell_type": "markdown",
   "id": "18b63ed0",
   "metadata": {},
   "source": [
    "> <span style=\"font-size:1em;\"></span> **Module: 2. Loading Dataset**\n",
    "\n",
    "> - We read the provided csv file for training"
   ]
  },
  {
   "cell_type": "code",
   "execution_count": 3,
   "id": "45b281db",
   "metadata": {},
   "outputs": [],
   "source": [
    "#Input data file\n",
    "patients = pd.read_csv(\"Paitients_Files_Train.csv\")"
   ]
  },
  {
   "cell_type": "markdown",
   "id": "81b4a968",
   "metadata": {},
   "source": [
    "> <span style=\"font-size:1em;\"></span> **Module: 3. Explore Data Characterestics**\n",
    "\n",
    "> - We explore the basic dataset characterestics and summary statistics (observations are noted/provided after relevant codes and output, wherever not evident)"
   ]
  },
  {
   "cell_type": "code",
   "execution_count": 4,
   "id": "ff44cbc7",
   "metadata": {},
   "outputs": [
    {
     "name": "stdout",
     "output_type": "stream",
     "text": [
      "          ID  PRG   PL  PR  SK   TS   M11    BD2  Age  Insurance   Sepssis\n",
      "0  ICU200010    6  148  72  35    0  33.6  0.627   50          0  Positive\n",
      "1  ICU200011    1   85  66  29    0  26.6  0.351   31          0  Negative\n",
      "2  ICU200012    8  183  64   0    0  23.3  0.672   32          1  Positive\n",
      "3  ICU200013    1   89  66  23   94  28.1  0.167   21          1  Negative\n",
      "4  ICU200014    0  137  40  35  168  43.1  2.288   33          1  Positive\n"
     ]
    },
    {
     "data": {
      "text/plain": [
       "(599, 11)"
      ]
     },
     "execution_count": 4,
     "metadata": {},
     "output_type": "execute_result"
    }
   ],
   "source": [
    "#Explore the dataset characterestics\n",
    "print(patients.head())\n",
    "\n",
    "patients.shape"
   ]
  },
  {
   "cell_type": "markdown",
   "id": "fb12d0c1",
   "metadata": {},
   "source": [
    "> <span style=\"font-size:1em;\"></span> ***Observations: Dataset shape*** \n",
    "\n",
    "> - The training data set has 11 variables and 599 rows"
   ]
  },
  {
   "cell_type": "code",
   "execution_count": 5,
   "id": "4ea8fc99",
   "metadata": {},
   "outputs": [
    {
     "name": "stdout",
     "output_type": "stream",
     "text": [
      "Index(['ID', 'PRG', 'PL', 'PR', 'SK', 'TS', 'M11', 'BD2', 'Age', 'Insurance',\n",
      "       'Sepssis'],\n",
      "      dtype='object')\n",
      "<class 'pandas.core.frame.DataFrame'>\n",
      "RangeIndex: 599 entries, 0 to 598\n",
      "Data columns (total 11 columns):\n",
      " #   Column     Non-Null Count  Dtype  \n",
      "---  ------     --------------  -----  \n",
      " 0   ID         599 non-null    object \n",
      " 1   PRG        599 non-null    int64  \n",
      " 2   PL         599 non-null    int64  \n",
      " 3   PR         599 non-null    int64  \n",
      " 4   SK         599 non-null    int64  \n",
      " 5   TS         599 non-null    int64  \n",
      " 6   M11        599 non-null    float64\n",
      " 7   BD2        599 non-null    float64\n",
      " 8   Age        599 non-null    int64  \n",
      " 9   Insurance  599 non-null    int64  \n",
      " 10  Sepssis    599 non-null    object \n",
      "dtypes: float64(2), int64(7), object(2)\n",
      "memory usage: 51.6+ KB\n",
      "None\n"
     ]
    },
    {
     "data": {
      "text/html": [
       "<div>\n",
       "<style scoped>\n",
       "    .dataframe tbody tr th:only-of-type {\n",
       "        vertical-align: middle;\n",
       "    }\n",
       "\n",
       "    .dataframe tbody tr th {\n",
       "        vertical-align: top;\n",
       "    }\n",
       "\n",
       "    .dataframe thead th {\n",
       "        text-align: right;\n",
       "    }\n",
       "</style>\n",
       "<table border=\"1\" class=\"dataframe\">\n",
       "  <thead>\n",
       "    <tr style=\"text-align: right;\">\n",
       "      <th></th>\n",
       "      <th>PRG</th>\n",
       "      <th>PL</th>\n",
       "      <th>PR</th>\n",
       "      <th>SK</th>\n",
       "      <th>TS</th>\n",
       "      <th>M11</th>\n",
       "      <th>BD2</th>\n",
       "      <th>Age</th>\n",
       "      <th>Insurance</th>\n",
       "    </tr>\n",
       "  </thead>\n",
       "  <tbody>\n",
       "    <tr>\n",
       "      <th>count</th>\n",
       "      <td>599.000000</td>\n",
       "      <td>599.000000</td>\n",
       "      <td>599.000000</td>\n",
       "      <td>599.000000</td>\n",
       "      <td>599.000000</td>\n",
       "      <td>599.000000</td>\n",
       "      <td>599.000000</td>\n",
       "      <td>599.000000</td>\n",
       "      <td>599.000000</td>\n",
       "    </tr>\n",
       "    <tr>\n",
       "      <th>mean</th>\n",
       "      <td>3.824708</td>\n",
       "      <td>120.153589</td>\n",
       "      <td>68.732888</td>\n",
       "      <td>20.562604</td>\n",
       "      <td>79.460768</td>\n",
       "      <td>31.920033</td>\n",
       "      <td>0.481187</td>\n",
       "      <td>33.290484</td>\n",
       "      <td>0.686144</td>\n",
       "    </tr>\n",
       "    <tr>\n",
       "      <th>std</th>\n",
       "      <td>3.362839</td>\n",
       "      <td>32.682364</td>\n",
       "      <td>19.335675</td>\n",
       "      <td>16.017622</td>\n",
       "      <td>116.576176</td>\n",
       "      <td>8.008227</td>\n",
       "      <td>0.337552</td>\n",
       "      <td>11.828446</td>\n",
       "      <td>0.464447</td>\n",
       "    </tr>\n",
       "    <tr>\n",
       "      <th>min</th>\n",
       "      <td>0.000000</td>\n",
       "      <td>0.000000</td>\n",
       "      <td>0.000000</td>\n",
       "      <td>0.000000</td>\n",
       "      <td>0.000000</td>\n",
       "      <td>0.000000</td>\n",
       "      <td>0.078000</td>\n",
       "      <td>21.000000</td>\n",
       "      <td>0.000000</td>\n",
       "    </tr>\n",
       "    <tr>\n",
       "      <th>25%</th>\n",
       "      <td>1.000000</td>\n",
       "      <td>99.000000</td>\n",
       "      <td>64.000000</td>\n",
       "      <td>0.000000</td>\n",
       "      <td>0.000000</td>\n",
       "      <td>27.100000</td>\n",
       "      <td>0.248000</td>\n",
       "      <td>24.000000</td>\n",
       "      <td>0.000000</td>\n",
       "    </tr>\n",
       "    <tr>\n",
       "      <th>50%</th>\n",
       "      <td>3.000000</td>\n",
       "      <td>116.000000</td>\n",
       "      <td>70.000000</td>\n",
       "      <td>23.000000</td>\n",
       "      <td>36.000000</td>\n",
       "      <td>32.000000</td>\n",
       "      <td>0.383000</td>\n",
       "      <td>29.000000</td>\n",
       "      <td>1.000000</td>\n",
       "    </tr>\n",
       "    <tr>\n",
       "      <th>75%</th>\n",
       "      <td>6.000000</td>\n",
       "      <td>140.000000</td>\n",
       "      <td>80.000000</td>\n",
       "      <td>32.000000</td>\n",
       "      <td>123.500000</td>\n",
       "      <td>36.550000</td>\n",
       "      <td>0.647000</td>\n",
       "      <td>40.000000</td>\n",
       "      <td>1.000000</td>\n",
       "    </tr>\n",
       "    <tr>\n",
       "      <th>max</th>\n",
       "      <td>17.000000</td>\n",
       "      <td>198.000000</td>\n",
       "      <td>122.000000</td>\n",
       "      <td>99.000000</td>\n",
       "      <td>846.000000</td>\n",
       "      <td>67.100000</td>\n",
       "      <td>2.420000</td>\n",
       "      <td>81.000000</td>\n",
       "      <td>1.000000</td>\n",
       "    </tr>\n",
       "  </tbody>\n",
       "</table>\n",
       "</div>"
      ],
      "text/plain": [
       "              PRG          PL          PR          SK          TS         M11  \\\n",
       "count  599.000000  599.000000  599.000000  599.000000  599.000000  599.000000   \n",
       "mean     3.824708  120.153589   68.732888   20.562604   79.460768   31.920033   \n",
       "std      3.362839   32.682364   19.335675   16.017622  116.576176    8.008227   \n",
       "min      0.000000    0.000000    0.000000    0.000000    0.000000    0.000000   \n",
       "25%      1.000000   99.000000   64.000000    0.000000    0.000000   27.100000   \n",
       "50%      3.000000  116.000000   70.000000   23.000000   36.000000   32.000000   \n",
       "75%      6.000000  140.000000   80.000000   32.000000  123.500000   36.550000   \n",
       "max     17.000000  198.000000  122.000000   99.000000  846.000000   67.100000   \n",
       "\n",
       "              BD2         Age   Insurance  \n",
       "count  599.000000  599.000000  599.000000  \n",
       "mean     0.481187   33.290484    0.686144  \n",
       "std      0.337552   11.828446    0.464447  \n",
       "min      0.078000   21.000000    0.000000  \n",
       "25%      0.248000   24.000000    0.000000  \n",
       "50%      0.383000   29.000000    1.000000  \n",
       "75%      0.647000   40.000000    1.000000  \n",
       "max      2.420000   81.000000    1.000000  "
      ]
     },
     "execution_count": 5,
     "metadata": {},
     "output_type": "execute_result"
    }
   ],
   "source": [
    "print(patients.columns)\n",
    "print(patients.info())\n",
    "patients.describe()"
   ]
  },
  {
   "cell_type": "markdown",
   "id": "4b68252f",
   "metadata": {},
   "source": [
    "> <span style=\"font-size:1em;\"></span> ***Observations: Dataset Characterestics*** \n",
    "\n",
    "> - The dataset has the following data types:\n",
    ">  - 2 categorical variables: ID, Sepssis (Target Variable)\n",
    ">  - 2 float variables M11, BD2\n",
    ">  - 7 integer variables other variables\n",
    "\n",
    "> - There are no null values in any variables, and all variable have 599 valid observations\n",
    "\n",
    "> - The statistical analysis shows the below observations:\n",
    ">  - Insurance seems to have values between 0, 1 (min, max). And since its an integer variable, it can have only 2 values. Its a flag variable (has insurance or not)\n",
    ">  - Similarly, our target variable, 'Sepssis' is also a flag\n",
    ">  - SK, TS are skewed to the left (values between (0th, 25th) percentile are 0 and increases towards futher quartiles).\n",
    ">    - Further analysis (histograms) will help understand the distributions as well as the outliers"
   ]
  },
  {
   "cell_type": "markdown",
   "id": "c5858af1",
   "metadata": {},
   "source": [
    "> <span style=\"font-size:1em;\"></span> **Module: 4. Explore and modify specific columns such as target variable 'Sepssis' & 'ID'**\n",
    "\n",
    "> - We also look for any misssing values in the dataset as well "
   ]
  },
  {
   "cell_type": "code",
   "execution_count": 6,
   "id": "674301fa",
   "metadata": {
    "scrolled": true
   },
   "outputs": [
    {
     "name": "stdout",
     "output_type": "stream",
     "text": [
      "ID           0\n",
      "PRG          0\n",
      "PL           0\n",
      "PR           0\n",
      "SK           0\n",
      "TS           0\n",
      "M11          0\n",
      "BD2          0\n",
      "Age          0\n",
      "Insurance    0\n",
      "Sepssis      0\n",
      "dtype: int64\n"
     ]
    }
   ],
   "source": [
    "#Check for missing values\n",
    "print(patients.isna().sum()) #No missing values in any column\n",
    "\n",
    "#Convert sepsiss to a flag (0/1)\n",
    "patients['Sepssis'] = np.where(patients['Sepssis'] == \"Positive\", 1, np.where(patients['Sepssis'] == \"Negative\", 0, 2))\n",
    "\n",
    "#Check if 'Sepssis' has other values other than 0 and 1. \n",
    "patients['Sepssis'].value_counts() #'Sepssis' consists of only 0 and 1\n",
    "\n",
    "\n",
    "#convert ID column from text to a numeric ID column (remove prefix ICU from the IDs as it causes issue while running logistic regression model)\n",
    "patients['ID'] = patients['ID'].replace('ICU', '', regex=True)\n"
   ]
  },
  {
   "cell_type": "markdown",
   "id": "3ec7b390",
   "metadata": {},
   "source": [
    "> <span style=\"font-size:1em;\"></span> ***Observations: Missing values & Target Variable Transformation*** \n",
    "\n",
    "> - Presence of missing values reverified using pd.isna() function.\n",
    ">  - No missing values\n",
    "\n",
    "> - Sepssis is a textual field, and has been converted to a cateogircal (flag) field\n",
    ">  - Values other than 0 and 1 reverified using value counts. Any other value would have returned as \"2\" due to the code logic during flag conversion"
   ]
  },
  {
   "cell_type": "markdown",
   "id": "28b4fbe6",
   "metadata": {},
   "source": [
    "> <span style=\"font-size:1em;\"></span> **Module: 5. Explore the unique values in every column**\n",
    "\n",
    "> - This will give us a good perspective of the range of values in each column"
   ]
  },
  {
   "cell_type": "code",
   "execution_count": 7,
   "id": "c4e567d5",
   "metadata": {},
   "outputs": [
    {
     "name": "stdout",
     "output_type": "stream",
     "text": [
      "\n",
      " PRG\n",
      "[0, 1, 2, 3, 4, 5, 6, 7, 8, 9, 10, 11, 12, 13, 14, 15, 17]\n",
      "\n",
      " PL\n",
      "[0, 44, 57, 61, 62, 67, 68, 71, 72, 73, 74, 75, 76, 77, 78, 79, 80, 81, 82, 83, 84, 85, 86, 87, 88, 89, 90, 91, 92, 93, 94, 95, 96, 97, 98, 99, 100, 101, 102, 103, 104, 105, 106, 107, 108, 109, 110, 111, 112, 113, 114, 115, 116, 117, 118, 119, 120, 121, 122, 123, 124, 125, 126, 127, 128, 129, 130, 131, 132, 133, 134, 135, 136, 137, 138, 139, 140, 141, 142, 143, 144, 145, 146, 147, 148, 150, 151, 152, 153, 154, 155, 156, 157, 158, 159, 160, 161, 162, 163, 164, 165, 166, 167, 168, 170, 171, 172, 173, 175, 176, 177, 178, 179, 180, 181, 182, 183, 184, 186, 187, 188, 189, 191, 193, 194, 195, 196, 197, 198]\n",
      "\n",
      " PR\n",
      "[0, 24, 30, 40, 44, 46, 48, 50, 52, 54, 55, 56, 58, 60, 61, 62, 64, 65, 66, 68, 70, 72, 74, 75, 76, 78, 80, 82, 84, 85, 86, 88, 90, 92, 94, 95, 96, 98, 100, 102, 104, 108, 110, 122]\n",
      "\n",
      " SK\n",
      "[0, 7, 8, 10, 11, 12, 13, 14, 15, 16, 17, 18, 19, 20, 21, 22, 23, 24, 25, 26, 27, 28, 29, 30, 31, 32, 33, 34, 35, 36, 37, 38, 39, 40, 41, 42, 43, 44, 45, 46, 47, 48, 49, 50, 51, 52, 54, 56, 60, 63, 99]\n",
      "\n",
      " TS\n",
      "[0, 14, 18, 23, 25, 29, 32, 36, 37, 38, 40, 42, 43, 44, 45, 48, 49, 50, 51, 52, 53, 54, 55, 56, 57, 58, 59, 60, 61, 63, 64, 65, 66, 67, 68, 70, 71, 72, 73, 74, 75, 76, 77, 78, 79, 81, 82, 83, 84, 85, 86, 87, 88, 89, 90, 92, 94, 95, 96, 99, 100, 105, 106, 108, 110, 114, 115, 116, 119, 120, 122, 125, 126, 128, 129, 130, 132, 135, 140, 142, 145, 146, 148, 150, 152, 155, 156, 158, 160, 165, 166, 167, 168, 170, 171, 175, 176, 180, 182, 184, 185, 188, 190, 191, 192, 193, 194, 196, 204, 205, 207, 210, 215, 220, 225, 228, 230, 231, 235, 237, 240, 245, 249, 250, 255, 258, 265, 270, 271, 274, 275, 277, 278, 280, 284, 285, 293, 300, 304, 310, 318, 325, 326, 328, 330, 342, 360, 370, 375, 402, 415, 465, 474, 478, 480, 485, 495, 543, 545, 579, 600, 680, 744, 846]\n",
      "\n",
      " M11\n",
      "[0.0, 18.2, 18.4, 19.1, 19.3, 19.4, 19.6, 19.9, 20.0, 20.4, 20.8, 21.0, 21.1, 21.2, 21.7, 21.8, 21.9, 22.1, 22.2, 22.3, 22.4, 22.5, 22.6, 22.7, 22.9, 23.0, 23.1, 23.2, 23.3, 23.5, 23.6, 23.7, 23.8, 23.9, 24.0, 24.2, 24.3, 24.4, 24.5, 24.6, 24.7, 24.8, 24.9, 25.0, 25.1, 25.2, 25.3, 25.4, 25.5, 25.6, 25.8, 25.9, 26.0, 26.1, 26.2, 26.3, 26.4, 26.5, 26.6, 26.7, 26.8, 26.9, 27.0, 27.1, 27.2, 27.3, 27.4, 27.5, 27.6, 27.7, 27.8, 27.9, 28.0, 28.1, 28.2, 28.4, 28.5, 28.6, 28.7, 28.8, 28.9, 29.0, 29.2, 29.3, 29.5, 29.6, 29.7, 29.8, 29.9, 30.0, 30.1, 30.2, 30.3, 30.4, 30.5, 30.7, 30.8, 30.9, 31.0, 31.1, 31.2, 31.3, 31.6, 31.9, 32.0, 32.1, 32.2, 32.3, 32.4, 32.5, 32.6, 32.7, 32.8, 32.9, 33.1, 33.2, 33.3, 33.5, 33.6, 33.7, 33.8, 33.9, 34.0, 34.1, 34.2, 34.3, 34.4, 34.5, 34.6, 34.7, 34.8, 34.9, 35.0, 35.1, 35.2, 35.3, 35.4, 35.5, 35.7, 35.8, 35.9, 36.0, 36.1, 36.2, 36.3, 36.4, 36.5, 36.6, 36.7, 36.8, 36.9, 37.0, 37.1, 37.2, 37.3, 37.4, 37.5, 37.6, 37.7, 37.8, 37.9, 38.0, 38.1, 38.2, 38.3, 38.4, 38.5, 38.6, 38.7, 38.8, 39.0, 39.1, 39.2, 39.3, 39.4, 39.5, 39.6, 39.7, 39.8, 39.9, 40.0, 40.1, 40.2, 40.5, 40.6, 40.7, 40.9, 41.0, 41.3, 41.5, 41.8, 42.0, 42.1, 42.2, 42.3, 42.4, 42.6, 42.7, 42.8, 42.9, 43.1, 43.2, 43.3, 43.4, 43.5, 43.6, 44.0, 44.1, 44.2, 45.0, 45.2, 45.3, 45.4, 45.5, 45.6, 45.7, 45.8, 46.1, 46.2, 46.5, 46.7, 46.8, 47.9, 48.3, 48.8, 49.7, 50.0, 52.3, 52.9, 53.2, 55.0, 59.4, 67.1]\n",
      "\n",
      " BD2\n",
      "[0.078, 0.084, 0.085, 0.088, 0.089, 0.092, 0.096, 0.101, 0.102, 0.107, 0.108, 0.121, 0.122, 0.123, 0.126, 0.127, 0.128, 0.129, 0.13, 0.134, 0.135, 0.136, 0.137, 0.14, 0.142, 0.143, 0.145, 0.147, 0.148, 0.15, 0.151, 0.153, 0.154, 0.156, 0.158, 0.159, 0.16, 0.161, 0.162, 0.163, 0.164, 0.165, 0.166, 0.167, 0.17, 0.173, 0.174, 0.175, 0.178, 0.179, 0.18, 0.183, 0.186, 0.187, 0.188, 0.189, 0.19, 0.191, 0.192, 0.194, 0.196, 0.197, 0.198, 0.199, 0.2, 0.201, 0.203, 0.204, 0.205, 0.206, 0.207, 0.209, 0.21, 0.212, 0.215, 0.218, 0.219, 0.22, 0.221, 0.223, 0.225, 0.226, 0.227, 0.229, 0.23, 0.231, 0.232, 0.233, 0.234, 0.235, 0.236, 0.237, 0.238, 0.239, 0.24, 0.241, 0.243, 0.244, 0.245, 0.247, 0.248, 0.249, 0.251, 0.252, 0.254, 0.255, 0.256, 0.257, 0.258, 0.259, 0.26, 0.261, 0.262, 0.263, 0.264, 0.267, 0.268, 0.269, 0.27, 0.271, 0.272, 0.277, 0.278, 0.279, 0.28, 0.282, 0.283, 0.284, 0.285, 0.286, 0.287, 0.289, 0.29, 0.292, 0.293, 0.294, 0.296, 0.297, 0.299, 0.3, 0.302, 0.304, 0.305, 0.306, 0.307, 0.313, 0.314, 0.315, 0.318, 0.319, 0.323, 0.324, 0.325, 0.326, 0.328, 0.329, 0.33, 0.331, 0.334, 0.336, 0.337, 0.338, 0.34, 0.341, 0.342, 0.343, 0.344, 0.345, 0.346, 0.349, 0.351, 0.355, 0.356, 0.361, 0.364, 0.365, 0.368, 0.37, 0.371, 0.374, 0.375, 0.376, 0.378, 0.38, 0.381, 0.382, 0.383, 0.385, 0.388, 0.389, 0.391, 0.394, 0.395, 0.396, 0.398, 0.399, 0.401, 0.402, 0.403, 0.404, 0.407, 0.409, 0.411, 0.412, 0.415, 0.416, 0.417, 0.419, 0.42, 0.421, 0.422, 0.423, 0.427, 0.43, 0.431, 0.432, 0.433, 0.434, 0.435, 0.443, 0.444, 0.446, 0.451, 0.452, 0.454, 0.457, 0.46, 0.463, 0.464, 0.466, 0.467, 0.471, 0.472, 0.479, 0.484, 0.485, 0.487, 0.491, 0.493, 0.495, 0.496, 0.497, 0.498, 0.499, 0.501, 0.502, 0.503, 0.507, 0.509, 0.51, 0.512, 0.514, 0.516, 0.52, 0.525, 0.526, 0.527, 0.528, 0.529, 0.532, 0.534, 0.536, 0.537, 0.539, 0.542, 0.543, 0.545, 0.546, 0.547, 0.549, 0.551, 0.554, 0.557, 0.559, 0.561, 0.564, 0.569, 0.571, 0.572, 0.575, 0.578, 0.58, 0.582, 0.583, 0.586, 0.587, 0.588, 0.591, 0.597, 0.6, 0.601, 0.605, 0.607, 0.612, 0.613, 0.615, 0.619, 0.624, 0.626, 0.627, 0.629, 0.63, 0.637, 0.64, 0.645, 0.647, 0.652, 0.654, 0.655, 0.658, 0.66, 0.661, 0.665, 0.666, 0.672, 0.673, 0.674, 0.677, 0.678, 0.68, 0.682, 0.686, 0.687, 0.692, 0.693, 0.696, 0.698, 0.699, 0.702, 0.703, 0.704, 0.705, 0.709, 0.711, 0.717, 0.718, 0.719, 0.721, 0.722, 0.725, 0.727, 0.731, 0.733, 0.735, 0.738, 0.741, 0.742, 0.743, 0.744, 0.745, 0.748, 0.757, 0.759, 0.761, 0.767, 0.771, 0.773, 0.787, 0.801, 0.803, 0.804, 0.805, 0.808, 0.813, 0.816, 0.817, 0.821, 0.825, 0.831, 0.832, 0.833, 0.839, 0.84, 0.845, 0.851, 0.855, 0.867, 0.874, 0.875, 0.881, 0.892, 0.893, 0.905, 0.917, 0.925, 0.926, 0.93, 0.932, 0.933, 0.944, 0.947, 0.949, 0.955, 0.956, 0.962, 0.966, 0.968, 0.997, 1.001, 1.021, 1.022, 1.034, 1.072, 1.076, 1.095, 1.101, 1.114, 1.127, 1.136, 1.138, 1.144, 1.154, 1.159, 1.189, 1.191, 1.213, 1.222, 1.224, 1.251, 1.268, 1.318, 1.321, 1.353, 1.39, 1.391, 1.4, 1.441, 1.476, 1.6, 1.699, 1.731, 1.781, 1.893, 2.137, 2.288, 2.329, 2.42]\n",
      "\n",
      " Age\n",
      "[21, 22, 23, 24, 25, 26, 27, 28, 29, 30, 31, 32, 33, 34, 35, 36, 37, 38, 39, 40, 41, 42, 43, 44, 45, 46, 47, 48, 49, 50, 51, 52, 53, 54, 55, 56, 57, 58, 59, 60, 61, 62, 63, 64, 65, 66, 67, 69, 72, 81]\n",
      "\n",
      " Insurance\n",
      "[0, 1]\n",
      "\n",
      " Sepssis\n",
      "[0, 1]\n"
     ]
    }
   ],
   "source": [
    "#Check Unique Values in each column, except ID column\n",
    "for col in patients.columns.drop(['ID']):\n",
    "    print(\"\\n\",col)\n",
    "    print(sorted(patients[col].unique()))                    "
   ]
  },
  {
   "cell_type": "markdown",
   "id": "297373aa",
   "metadata": {},
   "source": [
    "> <span style=\"font-size:1em;\"></span> ***Observations: Uniqueness*** \n",
    "\n",
    "> - Most variables have finite values (except for float variables such as M11, BD2)\n",
    "> - PRG (i.e. Plasma GLucose level) have very finite values (0, 17) \n",
    "> - PR (i.e. Blood pressure) has finite range (0, 122)\n",
    "> - SK (i.e. Blood Work Result-2 (mm)) also has a finite range (0, 99)\n",
    "> - Age has a range (21, 81)\n",
    "> - All other variables have larger set of unique values"
   ]
  },
  {
   "cell_type": "markdown",
   "id": "4f23c1dc",
   "metadata": {},
   "source": [
    "> <span style=\"font-size:1em;\"></span> **Module: 6. Explore the data visually**\n",
    "\n",
    "> - We will look at the histograms (variable distrbutions), scatter plot (relationship with Sepssis variable), box plot (distribution across Sepssis flag, correlation plot (variable interactions, including Sepssis)"
   ]
  },
  {
   "cell_type": "code",
   "execution_count": 8,
   "id": "f1790b7c",
   "metadata": {
    "scrolled": true
   },
   "outputs": [
    {
     "data": {
      "image/png": "[encoded data removed]",
      "text/plain": [
       "<Figure size 1440x1440 with 11 Axes>"
      ]
     },
     "metadata": {
      "needs_background": "light"
     },
     "output_type": "display_data"
    }
   ],
   "source": [
    "#EDA: explore distributions\n",
    "plt.figure(figsize=(20,20))\n",
    "for i, col in enumerate(patients.columns):\n",
    "    \n",
    "    plt.subplot(4,5,i+1)\n",
    "    plt.hist(patients[col], alpha=0.3, color='b', density=True)\n",
    "    plt.title(col)\n",
    "    plt.xticks(rotation='vertical')   "
   ]
  },
  {
   "cell_type": "markdown",
   "id": "0f74046b",
   "metadata": {},
   "source": [
    "> <span style=\"font-size:1em;\"></span> ***Observations: Variable Distributions***\n",
    "\n",
    "> - The histograms are generated for each variables with below observations:\n",
    ">  - PRG, SK, TS, BD2, Age are skewed to the right (possible outliers in the right tail)\n",
    ">  - PL, PR, M11 are closer to a normal distribution\n",
    ">  - Insurance and Sepssis being flags have only (0, 1) in thier distribution\n"
   ]
  },
  {
   "cell_type": "code",
   "execution_count": 9,
   "id": "e8e9aa7c",
   "metadata": {},
   "outputs": [
    {
     "data": {
      "image/png": "[encoded data removed]",
      "text/plain": [
       "<Figure size 1440x1440 with 11 Axes>"
      ]
     },
     "metadata": {
      "needs_background": "light"
     },
     "output_type": "display_data"
    }
   ],
   "source": [
    "#Explore relationship of independent variables with dependent variable 'Sepssis'\n",
    "plt.figure(figsize=(20,20))\n",
    "for i, col in enumerate(patients.columns):\n",
    "    plt.subplot(4,5,i+1)\n",
    "    sns.scatterplot(data=patients, x=col, y='Sepssis')\n",
    "    plt.title(col)\n",
    "\n",
    "\n",
    "plt.xticks(rotation='vertical')\n",
    "plt.show()"
   ]
  },
  {
   "cell_type": "markdown",
   "id": "f6024f99",
   "metadata": {},
   "source": [
    "> <span style=\"font-size:1em;\"></span> ***Observations: Variable relationships***\n",
    "\n",
    "> - Scatter plots are created to check relationships of independent varibales against the dependent variable.\n",
    ">  - But since the dependent variable is binary, the scallter plot is not the best representaation (which plots 2 numeric variables the best)\n",
    "> - Given that its a binary variable, boxplots (divided by the independent variable) are analyzed next"
   ]
  },
  {
   "cell_type": "code",
   "execution_count": 10,
   "id": "9dda3e96",
   "metadata": {},
   "outputs": [
    {
     "name": "stderr",
     "output_type": "stream",
     "text": [
      "<ipython-input-10-745244d3826b>:5: UserWarning: FixedFormatter should only be used together with FixedLocator\n",
      "  ax.set_xticklabels(ax.get_xticklabels(),rotation=90)\n"
     ]
    },
    {
     "data": {
      "image/png": "[encoded data removed]",
      "text/plain": [
       "<Figure size 1440x1440 with 11 Axes>"
      ]
     },
     "metadata": {
      "needs_background": "light"
     },
     "output_type": "display_data"
    }
   ],
   "source": [
    "plt.figure(figsize=(20,20))\n",
    "for i, col in enumerate(patients.columns):\n",
    "    plt.subplot(4,5,i+1)\n",
    "    ax = sns.boxplot(y=col,x='Sepssis',data=patients)\n",
    "    ax.set_xticklabels(ax.get_xticklabels(),rotation=90)\n",
    "    plt.title(col)\n",
    "    plt.xticks(rotation='vertical')\n",
    "    \n",
    "plt.show()"
   ]
  },
  {
   "cell_type": "markdown",
   "id": "b5d2947d",
   "metadata": {},
   "source": [
    "> <span style=\"font-size:1em;\"></span> ***Observations: Variable relationships (boxplots)***\n",
    "\n",
    "> - Below observations can be made from the boxplots (Only the ones that are evident)\n",
    ">  - PRG has larger range for Sepssis = 1 compared to Sepssis = 0\n",
    ">    - There are 2 outliers in PRG for Sepssis = 0\n",
    ">  - PL has a higher and larger range for Sepssis = 1 as compared to Sepssis = 0\n",
    ">    - There are multiple outliers in PL for Sepssis = 0\n",
    ">  - TS, BD2 have a larger range for Sepssis = 1 as compared than Sepssis = 0\n",
    ">    - There are multiple outliers in the upper outlier range for both variables\n",
    ">  - M11, Age have a higher (but equally sized) range of values for Sepssis = 1as compared to Sepssis = 0\n",
    ">    - Outliers are present\n",
    ">  - Other variables are flags or ID columns (no interesting findings in these columns)\n",
    "> - Outliers are not explicitly removed at this point."
   ]
  },
  {
   "cell_type": "code",
   "execution_count": 11,
   "id": "22f66719",
   "metadata": {},
   "outputs": [
    {
     "data": {
      "image/png": "[encoded data removed]",
      "text/plain": [
       "<Figure size 720x576 with 2 Axes>"
      ]
     },
     "metadata": {
      "needs_background": "light"
     },
     "output_type": "display_data"
    }
   ],
   "source": [
    "f, ax = plt.subplots(figsize=(10, 8))\n",
    "corr = patients.corr()\n",
    "ax = sns.heatmap(\n",
    "    corr, \n",
    "    vmin=-1, vmax=1, center=0,\n",
    "    cmap=sns.diverging_palette(20, 220, n=200),\n",
    "    square=True\n",
    ")\n",
    "ax.set_xticklabels(\n",
    "    ax.get_xticklabels(),\n",
    "    rotation=90,\n",
    "    horizontalalignment='right'\n",
    ");"
   ]
  },
  {
   "cell_type": "markdown",
   "id": "8eb822da",
   "metadata": {},
   "source": [
    "> <span style=\"font-size:1em;\"></span> ***Observations: Variable relationships (correlation)***\n",
    "\n",
    "> - Below observations can be made from the correlation heatmap\n",
    ">  - Correlation with Sepssis:\n",
    ">    - PL, M11, PRG, Age and TS seem to have a positive relationship with Sepssis (in the order of strength of relationship)\n",
    ">  - Correlation among other variables (in decreasing order: Positive):\n",
    ">    - PRG and Age are significantly correlated (positive)\n",
    ">    - PL and TS are significantly correlated (positive)\n",
    ">    - SK and TS are significantly correlated (positive)\n",
    ">    - SK and M11 are significantly correlated (positive)\n",
    ">  - Correlation among other variables (in decreasing order: Negative):\n",
    ">    - SK and Age are significantly correlated (negative)"
   ]
  },
  {
   "cell_type": "markdown",
   "id": "0c387444",
   "metadata": {},
   "source": [
    "> <span style=\"font-size:1em;\"></span> **Module: 7. Train-Validation Split** \n",
    "\n",
    "> - As test data is seperately provided, we will divide the train data into train and validation datasets\n",
    ">  - The train data will be used to train ML models\n",
    ">  - The validation data will be used to help with hyperparater tuning to improve a balanced train-validation accuracy\n",
    ">  - The trained model is run again on train and validation data\n",
    ">  -  Accuracy score is calculated using acutal vs predicted values\n",
    "> - Train-validation split of 70:30 is carried out\n",
    "> - After splitting using a stratified sampling (to ensure equivalent proportions of Sepssis variable), the proportions are re-verified (see observations)\n",
    "> - Histogram plots are also plotted to check similarity"
   ]
  },
  {
   "cell_type": "code",
   "execution_count": 12,
   "id": "0812bc81",
   "metadata": {},
   "outputs": [],
   "source": [
    "#Scenario building using train-test split\n",
    "from sklearn.model_selection import train_test_split\n",
    "\n",
    "#create train and validation from patients data \n",
    "patients_train, patients_val = train_test_split(patients, test_size = 0.3, random_state=42, shuffle=True, stratify=patients['Sepssis'])"
   ]
  },
  {
   "cell_type": "code",
   "execution_count": 13,
   "id": "da7be432",
   "metadata": {},
   "outputs": [
    {
     "name": "stdout",
     "output_type": "stream",
     "text": [
      "Count of columns, rows in train, val, test datasets\n",
      "(419, 11)\n",
      "(180, 11)\n",
      "\n",
      "Count proportion of Y variable among train-val-test datasets\n",
      "1.889655172413793\n",
      "1.8571428571428572\n"
     ]
    }
   ],
   "source": [
    "#validate train test split. Use stratified sampling\n",
    "print('Count of columns, rows in train, val, test datasets')\n",
    "print(patients_train.shape)\n",
    "print(patients_val.shape)\n",
    "\n",
    "print('\\nCount proportion of Y variable among train-val-test datasets')\n",
    "print(patients_train['Sepssis'][patients_train['Sepssis']==0].count()/ patients_train['Sepssis'][patients_train['Sepssis']==1].count())\n",
    "print(patients_val['Sepssis'][patients_val['Sepssis']==0].count()/ patients_val['Sepssis'][patients_val['Sepssis']==1].count())"
   ]
  },
  {
   "cell_type": "markdown",
   "id": "1a4c9119",
   "metadata": {},
   "source": [
    "> <span style=\"font-size:1em;\"></span> ***Observations: Train-Validation split*** \n",
    "\n",
    "> - Below observations can be made from the train-validation splits\n",
    ">  - The train-validation datasets are split as per 70:30 split (70: Train, 30:Validation)\n",
    ">  - The proportion of Y variable (0/1) is consistant across the two datasets"
   ]
  },
  {
   "cell_type": "code",
   "execution_count": 14,
   "id": "a8ce5159",
   "metadata": {},
   "outputs": [
    {
     "name": "stderr",
     "output_type": "stream",
     "text": [
      "<ipython-input-14-e93ade3efb3b>:9: MatplotlibDeprecationWarning: Adding an axes using the same arguments as a previous axes currently reuses the earlier instance.  In a future version, a new instance will always be created and returned.  Meanwhile, this warning can be suppressed, and the future behavior ensured, by passing a unique label to each axes instance.\n",
      "  plt.subplot(4,5,i+1)\n"
     ]
    },
    {
     "data": {
      "image/png": "[encoded data removed]",
      "text/plain": [
       "<Figure size 1440x1440 with 11 Axes>"
      ]
     },
     "metadata": {
      "needs_background": "light"
     },
     "output_type": "display_data"
    }
   ],
   "source": [
    "#check disribution of variables across the 2 datasets\n",
    "plt.figure(figsize=(20,20))\n",
    "for i, col in enumerate(patients_train.columns):\n",
    "    plt.subplot(4,5,i+1)\n",
    "    plt.hist(patients_train[col], alpha=0.4, color='red', density=True)\n",
    "    plt.title(col)\n",
    "    plt.xticks(rotation='vertical')\n",
    "    \n",
    "    plt.subplot(4,5,i+1)\n",
    "    plt.hist(patients_val[col], alpha=0.4, color='yellow', density=True)\n",
    "    plt.title(col)\n",
    "    plt.xticks(rotation='vertical')"
   ]
  },
  {
   "cell_type": "markdown",
   "id": "63991afe",
   "metadata": {},
   "source": [
    "> <span style=\"font-size:1em;\"></span> ***Observations: Train-Validation distributions***\n",
    "\n",
    "> - Below observations can be made from the comparitive histograms\n",
    ">  - All variables across train-validation datasets have similar data distributions\n",
    ">  - Target variable is perfectly aligned due to stratified sampling\n",
    ">  - SK peaks a bit differently for train dataset, but no cause for alarm as the overall distribution is similar\n",
    ">  - ID variable, being an ID variable can not be expected to have same values (values are serial to reach other though)\n",
    ">  - Given the similar distributions, we are in-line with the requirements of ML pre-requisites for train-validation samples."
   ]
  },
  {
   "cell_type": "markdown",
   "id": "291d7bc3",
   "metadata": {},
   "source": [
    "> <span style=\"font-size:1em;\"></span> **Module: 8. Normalize and Standardize the dataset**\n",
    "\n",
    "> - Transform all variables to a standard normal distribution with mean 0 and standard deviation 1\n",
    ">  - This will ensure equal scaling to all variables and the model will not be biased based on range of value\n",
    "> - The transformations are fit on the training variables, and transformed on the train and validation columns (and later test columns too)\n",
    "> - The variables are plotted on a histogram to verify that the distributions do not change when the variables are transformed (see observations)"
   ]
  },
  {
   "cell_type": "code",
   "execution_count": 15,
   "id": "d784379b",
   "metadata": {},
   "outputs": [
    {
     "data": {
      "image/png": "[encoded data removed]",
      "text/plain": [
       "<Figure size 1440x1440 with 11 Axes>"
      ]
     },
     "metadata": {
      "needs_background": "light"
     },
     "output_type": "display_data"
    }
   ],
   "source": [
    "warnings.filterwarnings('ignore')\n",
    "\n",
    "#Standard scaling for each feature (except insurance and Sepssis)\n",
    "\n",
    "#PRG\n",
    "std_scalar_prg = StandardScaler().fit(patients_train[['PRG']])\n",
    "patients_train['PRG'] = std_scalar_prg.transform(patients_train[['PRG']])\n",
    "patients_val['PRG'] = std_scalar_prg.transform(patients_val[['PRG']])\n",
    "\n",
    "#PL\n",
    "std_scalar_pl = StandardScaler().fit(patients_train[['PL']])\n",
    "patients_train['PL'] = std_scalar_pl.transform(patients_train[['PL']])\n",
    "patients_val['PL'] = std_scalar_pl.transform(patients_val[['PL']])\n",
    "\n",
    "#PR\n",
    "std_scalar_pr = StandardScaler().fit(patients_train[['PR']])\n",
    "patients_train['PR'] = std_scalar_pr.transform(patients_train[['PR']])\n",
    "patients_val['PR'] = std_scalar_pr.transform(patients_val[['PR']])\n",
    "\n",
    "#SK\n",
    "std_scalar_sk = StandardScaler().fit(patients_train[['SK']])\n",
    "patients_train['SK'] = std_scalar_sk.transform(patients_train[['SK']])\n",
    "patients_val['SK'] = std_scalar_sk.transform(patients_val[['SK']])\n",
    "\n",
    "#TS\n",
    "std_scalar_ts = StandardScaler().fit(patients_train[['TS']])\n",
    "patients_train['TS'] = std_scalar_ts.transform(patients_train[['TS']])\n",
    "patients_val['TS'] = std_scalar_ts.transform(patients_val[['TS']])\n",
    "\n",
    "#M11\n",
    "std_scalar_m11 = StandardScaler().fit(patients_train[['M11']])\n",
    "patients_train['M11'] = std_scalar_m11.transform(patients_train[['M11']])\n",
    "patients_val['M11'] = std_scalar_m11.transform(patients_val[['M11']])\n",
    "\n",
    "#BD2\n",
    "std_scalar_bd2 = StandardScaler().fit(patients_train[['BD2']])\n",
    "patients_train['BD2'] = std_scalar_bd2.transform(patients_train[['BD2']])\n",
    "patients_val['BD2'] = std_scalar_bd2.transform(patients_val[['BD2']])\n",
    "\n",
    "#Age\n",
    "std_scalar_age = StandardScaler().fit(patients_train[['Age']])\n",
    "patients_train['Age'] = std_scalar_age.transform(patients_train[['Age']])\n",
    "patients_val['Age'] = std_scalar_age.transform(patients_val[['Age']])\n",
    "\n",
    "#EDA: explore distributions post scaling with standard_scaling\n",
    "plt.figure(figsize=(20,20))\n",
    "for i, col in enumerate(patients_train.columns):\n",
    "    plt.subplot(4,5,i+1)\n",
    "    plt.hist(patients_train[col], alpha=0.3, color='red', density=True)\n",
    "    plt.title(col)\n",
    "    plt.xticks(rotation='vertical')   \n",
    "    \n",
    "    plt.subplot(4,5,i+1)\n",
    "    plt.hist(patients_val[col], alpha=0.3, color='yellow', density=True)\n",
    "    plt.title(col)\n",
    "    plt.xticks(rotation='vertical') "
   ]
  },
  {
   "cell_type": "markdown",
   "id": "f59a8559",
   "metadata": {},
   "source": [
    "> <span style=\"font-size:1em;\"></span> ***Observations: Standard Scaling***\n",
    "\n",
    "> - Below observations can be made from the Standard scaling\n",
    ">  - All features are transformed to a range of (mean=0, sd = 1) as shown by above histograms\n",
    ">  - All relevent train/validation features are transformed (fit() only on train data) equally to avoid any fit() bias due to validaiton data"
   ]
  },
  {
   "cell_type": "markdown",
   "id": "495f665d",
   "metadata": {},
   "source": [
    "> <span style=\"font-size:1em;\"></span> **Module: 9. Creation of X, Y datasets for each train-validation dataset**\n",
    "\n",
    "> - Insurance column is also dropped in the process"
   ]
  },
  {
   "cell_type": "code",
   "execution_count": 16,
   "id": "f58e6cc8",
   "metadata": {
    "scrolled": true
   },
   "outputs": [],
   "source": [
    "#Creation of X, Y datasets\n",
    "\n",
    "patients_train_y = patients_train['Sepssis']\n",
    "patients_train_x = patients_train.drop(['Insurance','Sepssis'], axis = 1)\n",
    "patients_val_y = patients_val['Sepssis']\n",
    "patients_val_x = patients_val.drop(['Insurance','Sepssis'], axis = 1)"
   ]
  },
  {
   "cell_type": "markdown",
   "id": "301011bb",
   "metadata": {},
   "source": [
    "> <span style=\"font-size:1em;\"></span> **Module: 10. Performance evaluation framework**\n",
    "\n",
    "> - Accuracy score is chosen as the performance metric to be evaluated\n",
    "> - Accuracy score across multiple models and model varients will be explored and the model with the best performance is chosen\n",
    "> - Best performance is based on 2 factors: High train accuracy and lowest train-validation difference\n",
    "> - f1 score will also be explored, but the model selection is based on accuracy score"
   ]
  },
  {
   "cell_type": "code",
   "execution_count": 16,
   "id": "f0a2e9d7",
   "metadata": {},
   "outputs": [],
   "source": [
    "#Performance evaluation Framework\n",
    "\n",
    "#Due to uneven proportion of 0/1 in target variable, We will take F1 as the main performance evaluation indicator as it considers both FP & FN\n",
    "#We will also look at accuracy on an exploration basis                \n",
    "\n",
    "from sklearn.metrics import f1_score\n",
    "from sklearn.metrics import accuracy_score\n",
    "\n",
    "#define function to get f1 scores from predicted vs actual y variables\n",
    "def get_f1_score (clf, train_x, train_y, val_x, val_y):\n",
    "    train_pred = clf.predict(train_x)\n",
    "    val_pred = clf.predict(val_x)\n",
    "    \n",
    "    train_f1 = f1_score(train_y, train_pred)\n",
    "    val_f1 = f1_score(val_y, val_pred)\n",
    "    \n",
    "    return(train_f1, val_f1)\n",
    "\n",
    "#define function to get accuracy from predicted vs actual y variables\n",
    "def get_accuracy_score (clf, train_x, train_y, val_x, val_y):\n",
    "    train_pred = clf.predict(train_x)\n",
    "    val_pred = clf.predict(val_x)\n",
    "    \n",
    "    train_f1 = accuracy_score(train_y, train_pred)\n",
    "    val_f1 = accuracy_score(val_y, val_pred)\n",
    "    \n",
    "    return(train_f1, val_f1)"
   ]
  },
  {
   "cell_type": "markdown",
   "id": "b0c102f3",
   "metadata": {},
   "source": [
    "> <span style=\"font-size:1em;\"></span> **Module: 11. ML Model Training**\n",
    "\n",
    "> - Multiple models are going to be explored\n",
    ">  - Naive Bayes - Baseline model *(model name: clf_nb1)*\n",
    ">  - Naive Bayes - hyperparameter tuning based on GridSearchCV *(model name: clf_nb2)*\n",
    ">  - Logistic Regression - Baseline model *(model name: clf_lr1)*\n",
    ">  - Logistic Regression - hyperparameter tuning based on lambda parameter range (for-loop) *(model name: clf_lr2)*\n",
    ">  - Logistic Regression on the best lambda parameter *(model name: clf_lr3)*\n",
    ">  - Random Forest - Baseline model *(model name: clf_rf1)*\n",
    ">  - Random Forest - hyperparameter tuning based on GridSearchCV (multi combinations of tree/forest parameters) *(model name: clf_rf2)*\n",
    ">  - Decision Trees - Baseline model *(model name: clf_dt1)*\n",
    ">  - Decision Trees - hyperparameter tuning based on GridSearchCV (multi combinations of tree parameters) *(model name: clf_dt2)*\n",
    "> - For results - see observations at the end of all models"
   ]
  },
  {
   "cell_type": "markdown",
   "id": "b299ba86",
   "metadata": {},
   "source": [
    "> <span style=\"font-size:1em;\"></span> **Naive Bayes Section** "
   ]
  },
  {
   "cell_type": "code",
   "execution_count": 17,
   "id": "3652cd01",
   "metadata": {
    "scrolled": true
   },
   "outputs": [
    {
     "name": "stdout",
     "output_type": "stream",
     "text": [
      "F1 Scores:\n",
      "Train f1-Score score: 0.654\n",
      "Validation f1-Score score: 0.622\n",
      "\n",
      "Accuracy Scores:\n",
      "Train Accuracy-Score score: 0.780\n",
      "Validation Accuracy-Score score: 0.750\n"
     ]
    }
   ],
   "source": [
    "#Implement a baseline Naive Bayes model (without regularization)\n",
    "from sklearn.naive_bayes import GaussianNB\n",
    "\n",
    "#Model will be named as clf_nb1 (naive bayes 1)\n",
    "clf_nb1 = GaussianNB()\n",
    "\n",
    "clf_nb1_model = clf_nb1.fit(patients_train_x, patients_train_y)\n",
    "\n",
    "clf_nb1_f1_score_train, clf_nb1_f1_score_val = get_f1_score(clf_nb1_model, patients_train_x, patients_train_y, patients_val_x, patients_val_y)\n",
    "clf_nb1_accuracy_score_train, clf_nb1_accuracy_score_val = get_accuracy_score(clf_nb1_model, patients_train_x, patients_train_y, patients_val_x, patients_val_y)\n",
    "\n",
    "\n",
    "print(\"F1 Scores:\")\n",
    "print(\"Train f1-Score score: {:.3f}\".format(clf_nb1_f1_score_train))\n",
    "print(\"Validation f1-Score score: {:.3f}\".format(clf_nb1_f1_score_val))\n",
    "\n",
    "\n",
    "print(\"\\nAccuracy Scores:\")\n",
    "print(\"Train Accuracy-Score score: {:.3f}\".format(clf_nb1_accuracy_score_train))\n",
    "print(\"Validation Accuracy-Score score: {:.3f}\".format(clf_nb1_accuracy_score_val))"
   ]
  },
  {
   "cell_type": "code",
   "execution_count": 18,
   "id": "c7345826",
   "metadata": {},
   "outputs": [
    {
     "name": "stdout",
     "output_type": "stream",
     "text": [
      "F1 Scores:\n",
      "Train f1-Score score: 0.644\n",
      "Validation f1-Score score: 0.622\n",
      "\n",
      "Accuracy Scores:\n",
      "Train Accuracy-Score score: 0.778\n",
      "Validation Accuracy-Score score: 0.750\n"
     ]
    }
   ],
   "source": [
    "#hyperparameter tuning\n",
    "\n",
    "parameters = {'var_smoothing':np.logspace(50, -50, 500)}\n",
    "\n",
    "#Model will be named as clf_nb2 (naive bayes 2)\n",
    "Gridclf_nb2 = GridSearchCV(estimator=GaussianNB(), param_grid = parameters, cv = 60)#, verbose = 1, n_jobs = -1)\n",
    "\n",
    "Gridclf_nb2.fit(patients_train_x, patients_train_y)\n",
    "\n",
    "clf_nb2 = Gridclf_nb2.best_estimator_\n",
    "\n",
    "clf_nb2_f1_score_train, clf_nb2_f1_score_val = get_f1_score(clf_nb2, patients_train_x, patients_train_y, patients_val_x, patients_val_y)\n",
    "\n",
    "clf_nb2_accuracy_score_train, clf_nb2_accuracy_score_val = get_accuracy_score(clf_nb2, patients_train_x, patients_train_y, patients_val_x, patients_val_y)\n",
    "\n",
    "print(\"F1 Scores:\")\n",
    "print(\"Train f1-Score score: {:.3f}\".format(clf_nb2_f1_score_train))\n",
    "print(\"Validation f1-Score score: {:.3f}\".format(clf_nb2_f1_score_val))\n",
    "\n",
    "\n",
    "print(\"\\nAccuracy Scores:\")\n",
    "print(\"Train Accuracy-Score score: {:.3f}\".format(clf_nb2_accuracy_score_train))\n",
    "print(\"Validation Accuracy-Score score: {:.3f}\".format(clf_nb2_accuracy_score_val))\n"
   ]
  },
  {
   "cell_type": "markdown",
   "id": "5f04e5a5",
   "metadata": {},
   "source": [
    "> <span style=\"font-size:1em;\"></span> **Logistic Regression Section** "
   ]
  },
  {
   "cell_type": "code",
   "execution_count": 19,
   "id": "df517553",
   "metadata": {
    "scrolled": false
   },
   "outputs": [
    {
     "name": "stdout",
     "output_type": "stream",
     "text": [
      "F1 Scores:\n",
      "Train f1-Score score: 0.682\n",
      "Validation f1-Score score: 0.705\n",
      "\n",
      "Accuracy Scores:\n",
      "Train Accuracy-Score score: 0.761\n",
      "Validation Accuracy-Score score: 0.772\n",
      "\n",
      "Classification report (Validation only):\n",
      "              precision    recall  f1-score   support\n",
      "\n",
      "           0       0.87      0.77      0.81       117\n",
      "           1       0.64      0.78      0.71        63\n",
      "\n",
      "    accuracy                           0.77       180\n",
      "   macro avg       0.76      0.77      0.76       180\n",
      "weighted avg       0.79      0.77      0.78       180\n",
      "\n",
      "\n",
      "Confusion Matrix (Validation only):\n"
     ]
    },
    {
     "data": {
      "text/plain": [
       "array([[90, 27],\n",
       "       [14, 49]], dtype=int64)"
      ]
     },
     "execution_count": 19,
     "metadata": {},
     "output_type": "execute_result"
    }
   ],
   "source": [
    "#Implement a baseline logistic regresison model (without regularization)\n",
    "from sklearn.linear_model import LogisticRegression\n",
    "\n",
    "#Model will be named as clf_lr1 (logistic regession 1)\n",
    "clf_lr1 = LogisticRegression(random_state=1, class_weight='balanced', max_iter=1000, penalty='l2', solver='liblinear')\n",
    "\n",
    "clf_lr1_model = clf_lr1.fit(patients_train_x, patients_train_y.ravel())\n",
    "\n",
    "clf_lr1_f1_score_train, clf_lr1_f1_score_val = get_f1_score(clf_lr1_model, patients_train_x, patients_train_y, patients_val_x, patients_val_y)\n",
    "\n",
    "clf_lr1_accuracy_score_train, clf_lr1_accuracy_score_val = get_accuracy_score(clf_lr1_model, patients_train_x, patients_train_y, patients_val_x, patients_val_y)\n",
    "\n",
    "print(\"F1 Scores:\")                                                     \n",
    "print(\"Train f1-Score score: {:.3f}\".format(clf_lr1_f1_score_train))\n",
    "print(\"Validation f1-Score score: {:.3f}\".format(clf_lr1_f1_score_val))\n",
    "\n",
    "\n",
    "print(\"\\nAccuracy Scores:\")\n",
    "print(\"Train Accuracy-Score score: {:.3f}\".format(clf_lr1_accuracy_score_train))\n",
    "print(\"Validation Accuracy-Score score: {:.3f}\".format(clf_lr1_accuracy_score_val))\n",
    "\n",
    "#Explore classification report and confusion matrix for logistic regression\n",
    "patients_val_y_temp = clf_lr1_model.predict(patients_val_x)\n",
    "\n",
    "print(\"\\nClassification report (Validation only):\")\n",
    "print(classification_report(patients_val_y, patients_val_y_temp,))\n",
    "\n",
    "print(\"\\nConfusion Matrix (Validation only):\")\n",
    "confusion_matrix(patients_val_y, patients_val_y_temp)"
   ]
  },
  {
   "cell_type": "code",
   "execution_count": 20,
   "id": "33d6424e",
   "metadata": {},
   "outputs": [
    {
     "data": {
      "image/png": "[encoded data removed]",
      "text/plain": [
       "<Figure size 432x288 with 1 Axes>"
      ]
     },
     "metadata": {
      "needs_background": "light"
     },
     "output_type": "display_data"
    },
    {
     "data": {
      "text/html": [
       "<div>\n",
       "<style scoped>\n",
       "    .dataframe tbody tr th:only-of-type {\n",
       "        vertical-align: middle;\n",
       "    }\n",
       "\n",
       "    .dataframe tbody tr th {\n",
       "        vertical-align: top;\n",
       "    }\n",
       "\n",
       "    .dataframe thead th {\n",
       "        text-align: right;\n",
       "    }\n",
       "</style>\n",
       "<table border=\"1\" class=\"dataframe\">\n",
       "  <thead>\n",
       "    <tr style=\"text-align: right;\">\n",
       "      <th></th>\n",
       "      <th>0</th>\n",
       "      <th>1</th>\n",
       "      <th>2</th>\n",
       "      <th>3</th>\n",
       "    </tr>\n",
       "  </thead>\n",
       "  <tbody>\n",
       "    <tr>\n",
       "      <th>0</th>\n",
       "      <td>1.000000e-10</td>\n",
       "      <td>1.000000e+10</td>\n",
       "      <td>0.761337</td>\n",
       "      <td>0.772222</td>\n",
       "    </tr>\n",
       "    <tr>\n",
       "      <th>1</th>\n",
       "      <td>4.216965e-10</td>\n",
       "      <td>2.371374e+09</td>\n",
       "      <td>0.761337</td>\n",
       "      <td>0.772222</td>\n",
       "    </tr>\n",
       "    <tr>\n",
       "      <th>2</th>\n",
       "      <td>1.778279e-09</td>\n",
       "      <td>5.623413e+08</td>\n",
       "      <td>0.761337</td>\n",
       "      <td>0.772222</td>\n",
       "    </tr>\n",
       "    <tr>\n",
       "      <th>3</th>\n",
       "      <td>7.498942e-09</td>\n",
       "      <td>1.333521e+08</td>\n",
       "      <td>0.761337</td>\n",
       "      <td>0.772222</td>\n",
       "    </tr>\n",
       "    <tr>\n",
       "      <th>4</th>\n",
       "      <td>3.162278e-08</td>\n",
       "      <td>3.162278e+07</td>\n",
       "      <td>0.761337</td>\n",
       "      <td>0.772222</td>\n",
       "    </tr>\n",
       "    <tr>\n",
       "      <th>5</th>\n",
       "      <td>1.333521e-07</td>\n",
       "      <td>7.498942e+06</td>\n",
       "      <td>0.761337</td>\n",
       "      <td>0.772222</td>\n",
       "    </tr>\n",
       "    <tr>\n",
       "      <th>6</th>\n",
       "      <td>5.623413e-07</td>\n",
       "      <td>1.778279e+06</td>\n",
       "      <td>0.761337</td>\n",
       "      <td>0.772222</td>\n",
       "    </tr>\n",
       "    <tr>\n",
       "      <th>7</th>\n",
       "      <td>2.371374e-06</td>\n",
       "      <td>4.216965e+05</td>\n",
       "      <td>0.761337</td>\n",
       "      <td>0.772222</td>\n",
       "    </tr>\n",
       "    <tr>\n",
       "      <th>8</th>\n",
       "      <td>1.000000e-05</td>\n",
       "      <td>1.000000e+05</td>\n",
       "      <td>0.761337</td>\n",
       "      <td>0.772222</td>\n",
       "    </tr>\n",
       "    <tr>\n",
       "      <th>9</th>\n",
       "      <td>4.216965e-05</td>\n",
       "      <td>2.371374e+04</td>\n",
       "      <td>0.761337</td>\n",
       "      <td>0.772222</td>\n",
       "    </tr>\n",
       "    <tr>\n",
       "      <th>10</th>\n",
       "      <td>1.778279e-04</td>\n",
       "      <td>5.623413e+03</td>\n",
       "      <td>0.761337</td>\n",
       "      <td>0.772222</td>\n",
       "    </tr>\n",
       "    <tr>\n",
       "      <th>11</th>\n",
       "      <td>7.498942e-04</td>\n",
       "      <td>1.333521e+03</td>\n",
       "      <td>0.761337</td>\n",
       "      <td>0.772222</td>\n",
       "    </tr>\n",
       "    <tr>\n",
       "      <th>12</th>\n",
       "      <td>3.162278e-03</td>\n",
       "      <td>3.162278e+02</td>\n",
       "      <td>0.761337</td>\n",
       "      <td>0.772222</td>\n",
       "    </tr>\n",
       "    <tr>\n",
       "      <th>13</th>\n",
       "      <td>1.333521e-02</td>\n",
       "      <td>7.498942e+01</td>\n",
       "      <td>0.761337</td>\n",
       "      <td>0.772222</td>\n",
       "    </tr>\n",
       "    <tr>\n",
       "      <th>14</th>\n",
       "      <td>5.623413e-02</td>\n",
       "      <td>1.778279e+01</td>\n",
       "      <td>0.761337</td>\n",
       "      <td>0.772222</td>\n",
       "    </tr>\n",
       "    <tr>\n",
       "      <th>15</th>\n",
       "      <td>2.371374e-01</td>\n",
       "      <td>4.216965e+00</td>\n",
       "      <td>0.761337</td>\n",
       "      <td>0.772222</td>\n",
       "    </tr>\n",
       "    <tr>\n",
       "      <th>16</th>\n",
       "      <td>1.000000e+00</td>\n",
       "      <td>1.000000e+00</td>\n",
       "      <td>0.761337</td>\n",
       "      <td>0.772222</td>\n",
       "    </tr>\n",
       "    <tr>\n",
       "      <th>17</th>\n",
       "      <td>4.216965e+00</td>\n",
       "      <td>2.371374e-01</td>\n",
       "      <td>0.763723</td>\n",
       "      <td>0.772222</td>\n",
       "    </tr>\n",
       "    <tr>\n",
       "      <th>18</th>\n",
       "      <td>1.778279e+01</td>\n",
       "      <td>5.623413e-02</td>\n",
       "      <td>0.763723</td>\n",
       "      <td>0.772222</td>\n",
       "    </tr>\n",
       "    <tr>\n",
       "      <th>19</th>\n",
       "      <td>7.498942e+01</td>\n",
       "      <td>1.333521e-02</td>\n",
       "      <td>0.761337</td>\n",
       "      <td>0.766667</td>\n",
       "    </tr>\n",
       "    <tr>\n",
       "      <th>20</th>\n",
       "      <td>3.162278e+02</td>\n",
       "      <td>3.162278e-03</td>\n",
       "      <td>0.756563</td>\n",
       "      <td>0.755556</td>\n",
       "    </tr>\n",
       "    <tr>\n",
       "      <th>21</th>\n",
       "      <td>1.333521e+03</td>\n",
       "      <td>7.498942e-04</td>\n",
       "      <td>0.749403</td>\n",
       "      <td>0.755556</td>\n",
       "    </tr>\n",
       "    <tr>\n",
       "      <th>22</th>\n",
       "      <td>5.623413e+03</td>\n",
       "      <td>1.778279e-04</td>\n",
       "      <td>0.747017</td>\n",
       "      <td>0.750000</td>\n",
       "    </tr>\n",
       "    <tr>\n",
       "      <th>23</th>\n",
       "      <td>2.371374e+04</td>\n",
       "      <td>4.216965e-05</td>\n",
       "      <td>0.749403</td>\n",
       "      <td>0.750000</td>\n",
       "    </tr>\n",
       "    <tr>\n",
       "      <th>24</th>\n",
       "      <td>1.000000e+05</td>\n",
       "      <td>1.000000e-05</td>\n",
       "      <td>0.747017</td>\n",
       "      <td>0.755556</td>\n",
       "    </tr>\n",
       "  </tbody>\n",
       "</table>\n",
       "</div>"
      ],
      "text/plain": [
       "               0             1         2         3\n",
       "0   1.000000e-10  1.000000e+10  0.761337  0.772222\n",
       "1   4.216965e-10  2.371374e+09  0.761337  0.772222\n",
       "2   1.778279e-09  5.623413e+08  0.761337  0.772222\n",
       "3   7.498942e-09  1.333521e+08  0.761337  0.772222\n",
       "4   3.162278e-08  3.162278e+07  0.761337  0.772222\n",
       "5   1.333521e-07  7.498942e+06  0.761337  0.772222\n",
       "6   5.623413e-07  1.778279e+06  0.761337  0.772222\n",
       "7   2.371374e-06  4.216965e+05  0.761337  0.772222\n",
       "8   1.000000e-05  1.000000e+05  0.761337  0.772222\n",
       "9   4.216965e-05  2.371374e+04  0.761337  0.772222\n",
       "10  1.778279e-04  5.623413e+03  0.761337  0.772222\n",
       "11  7.498942e-04  1.333521e+03  0.761337  0.772222\n",
       "12  3.162278e-03  3.162278e+02  0.761337  0.772222\n",
       "13  1.333521e-02  7.498942e+01  0.761337  0.772222\n",
       "14  5.623413e-02  1.778279e+01  0.761337  0.772222\n",
       "15  2.371374e-01  4.216965e+00  0.761337  0.772222\n",
       "16  1.000000e+00  1.000000e+00  0.761337  0.772222\n",
       "17  4.216965e+00  2.371374e-01  0.763723  0.772222\n",
       "18  1.778279e+01  5.623413e-02  0.763723  0.772222\n",
       "19  7.498942e+01  1.333521e-02  0.761337  0.766667\n",
       "20  3.162278e+02  3.162278e-03  0.756563  0.755556\n",
       "21  1.333521e+03  7.498942e-04  0.749403  0.755556\n",
       "22  5.623413e+03  1.778279e-04  0.747017  0.750000\n",
       "23  2.371374e+04  4.216965e-05  0.749403  0.750000\n",
       "24  1.000000e+05  1.000000e-05  0.747017  0.755556"
      ]
     },
     "execution_count": 20,
     "metadata": {},
     "output_type": "execute_result"
    }
   ],
   "source": [
    "#implement regularization on logistic regression\n",
    "lambda_paras = np.logspace(-10, 5, num=25)    # establish the lambda values to test (grid)\n",
    "\n",
    "train_performace = list()\n",
    "valid_performace = list()\n",
    "\n",
    "#Model will be named as clf_lr2 (logistic regession 2)\n",
    "for lambda_para in lambda_paras:\n",
    "    clf_lr2 = LogisticRegression(penalty='l2', C = 1.0/lambda_para, \n",
    "                             random_state=1, solver='liblinear', max_iter=1000 , \n",
    "                             class_weight='balanced').fit(patients_train_x, patients_train_y.ravel())\n",
    "    \n",
    "    clf_lr2_accuracy_score_train, clf_lr2_accuracy_score_val = get_accuracy_score(clf_lr2, patients_train_x, patients_train_y, patients_val_x, patients_val_y)\n",
    "    \n",
    "    train_performace.append(clf_lr2_accuracy_score_train)\n",
    "    valid_performace.append(clf_lr2_accuracy_score_val)\n",
    "    \n",
    "#plot the scores\n",
    "plt.plot([1.0/lambda_para for lambda_para in lambda_paras], \n",
    "         [tp for tp in train_performace], 'r-')\n",
    "plt.plot([1.0/lambda_para for lambda_para in lambda_paras], \n",
    "         [vp for vp in valid_performace], 'b--')\n",
    "plt.xscale(\"log\")\n",
    "plt.ylabel('Accuracy Score')\n",
    "plt.xlabel('Model Capacity')\n",
    "plt.legend(['Training','Validation'])\n",
    "plt.show()\n",
    "\n",
    "\n",
    "#identify optimum lambda value with help of below table\n",
    "pd.concat([pd.Series(lambda_paras), pd.Series(1.0/lambda_paras), pd.Series(train_performace), pd.Series(valid_performace)], axis = 1)\n",
    "\n",
    "#Find optimum value corresponding to below ranges\n",
    "#train score ~ 0.765\n",
    "#validation score ~ 0.770\n",
    "\n",
    "#See beginning of next section for value identified"
   ]
  },
  {
   "cell_type": "code",
   "execution_count": 21,
   "id": "64ee311a",
   "metadata": {},
   "outputs": [
    {
     "name": "stdout",
     "output_type": "stream",
     "text": [
      "F1 Scores:\n",
      "Train f1-Score score: 0.682\n",
      "Validation f1-Score score: 0.701\n",
      "\n",
      "Accuracy Scores:\n",
      "Train Accuracy-Score score: 0.764\n",
      "Validation Accuracy-Score score: 0.772\n"
     ]
    }
   ],
   "source": [
    "#Implement the optimum logistic model based on the best lambda parameter (17.78279410038923)           \n",
    "\n",
    "#Model will be named as clf_lr3 (logistic regession 3)\n",
    "clf_lr3 = LogisticRegression(penalty='l2', C = 1.0/17.78279410038923, \n",
    "                             random_state=1, solver='liblinear', max_iter=1000 , \n",
    "                             class_weight='balanced').fit(patients_train_x, patients_train_y.ravel())\n",
    "\n",
    "clf_lr3_model = clf_lr3.fit(patients_train_x, patients_train_y)\n",
    "\n",
    "clf_lr3_f1_score_train, clf_lr3_f1_score_val = get_f1_score(clf_lr3_model, patients_train_x, patients_train_y, patients_val_x, patients_val_y)\n",
    "clf_lr3_accuracy_score_train, clf_lr3_accuracy_score_val = get_accuracy_score(clf_lr3_model, patients_train_x, patients_train_y, patients_val_x, patients_val_y)\n",
    "\n",
    "print(\"F1 Scores:\")\n",
    "print(\"Train f1-Score score: {:.3f}\".format(clf_lr3_f1_score_train))\n",
    "print(\"Validation f1-Score score: {:.3f}\".format(clf_lr3_f1_score_val))\n",
    "\n",
    "\n",
    "print(\"\\nAccuracy Scores:\")\n",
    "print(\"Train Accuracy-Score score: {:.3f}\".format(clf_lr3_accuracy_score_train))\n",
    "print(\"Validation Accuracy-Score score: {:.3f}\".format(clf_lr3_accuracy_score_val))\n"
   ]
  },
  {
   "cell_type": "markdown",
   "id": "1d0babc0",
   "metadata": {},
   "source": [
    "> <span style=\"font-size:1em;\"></span> **Random Forest Section** "
   ]
  },
  {
   "cell_type": "code",
   "execution_count": 22,
   "id": "e9ba4b78",
   "metadata": {
    "scrolled": true
   },
   "outputs": [
    {
     "name": "stdout",
     "output_type": "stream",
     "text": [
      "F1 Scores:\n",
      "Train f1-Score score: 0.990\n",
      "Validation f1-Score score: 0.667\n",
      "\n",
      "Accuracy Scores:\n",
      "Train Accuracy-Score score: 0.993\n",
      "Validation Accuracy-Score score: 0.772\n"
     ]
    }
   ],
   "source": [
    "#Implement a baseline random forest model (without regularization)\n",
    "from sklearn.ensemble import RandomForestClassifier\n",
    "\n",
    "#Model will be named as clf_rf1 (random forest 1)\n",
    "clf_rf1 = RandomForestClassifier(max_depth=8, n_estimators=500, class_weight='balanced_subsample', random_state=0, \n",
    "                                #criterion = \"entropy\", #\"gini\" had lower train-accuracy. but by default it is more than 'entropy'\n",
    "                                #min_samples_leaf=1,    no difference\n",
    "                                #min_samples_split=3, # '2' has lower train accuracy. but default has best train-accuracy\n",
    "                                #max_features='auto' #use auto\n",
    "                               )\n",
    "\n",
    "clf_rf1_model = clf_rf1.fit(patients_train_x, patients_train_y)\n",
    "\n",
    "clf_rf1_f1_score_train, clf_rf1_f1_score_val = get_f1_score(clf_rf1_model, patients_train_x, patients_train_y, patients_val_x, patients_val_y)\n",
    "clf_rf1_accuracy_score_train, clf_rf1_accuracy_score_val = get_accuracy_score(clf_rf1_model, patients_train_x, patients_train_y, patients_val_x, patients_val_y)\n",
    "\n",
    "print(\"F1 Scores:\")\n",
    "print(\"Train f1-Score score: {:.3f}\".format(clf_rf1_f1_score_train))\n",
    "print(\"Validation f1-Score score: {:.3f}\".format(clf_rf1_f1_score_val))\n",
    "\n",
    "\n",
    "print(\"\\nAccuracy Scores:\")\n",
    "print(\"Train Accuracy-Score score: {:.3f}\".format(clf_rf1_accuracy_score_train))\n",
    "print(\"Validation Accuracy-Score score: {:.3f}\".format(clf_rf1_accuracy_score_val))\n"
   ]
  },
  {
   "cell_type": "code",
   "execution_count": 23,
   "id": "5c4645e9",
   "metadata": {},
   "outputs": [
    {
     "name": "stdout",
     "output_type": "stream",
     "text": [
      "F1 Scores:\n",
      "Train f1-Score score: 0.866\n",
      "Validation f1-Score score: 0.661\n",
      "\n",
      "Accuracy Scores:\n",
      "Train Accuracy-Score score: 0.902\n",
      "Validation Accuracy-Score score: 0.767\n"
     ]
    }
   ],
   "source": [
    "#Implement hyperparameter tuning on random forest\n",
    "parameters = {\n",
    "              'max_depth':np.arange(2,200,50),\n",
    "              'min_samples_split':np.arange(2,50,5),\n",
    "              'min_samples_leaf':np.arange(1,50,5),\n",
    "              #'max_features':np.arange(2,10,1),\n",
    "              #'max_leaf_nodes':np.arange(3,15,2),\n",
    "              'n_estimators': np.arange(5, 50, 2)\n",
    "             }\n",
    "\n",
    "#Model will be named as clf_rf2 (random forest 2)\n",
    "clf_rf2 = RandomForestClassifier(class_weight='balanced_subsample', random_state=0) \n",
    "\n",
    "\n",
    "Gridclf_rf2 = GridSearchCV(clf_rf2, parameters)\n",
    "\n",
    "Gridclf_rf2.fit(patients_train_x, patients_train_y)\n",
    "\n",
    "clf_rf2_model = Gridclf_rf2.best_estimator_\n",
    "\n",
    "clf_rf2_f1_score_train, clf_rf2_f1_score_val = get_f1_score(clf_rf2_model, patients_train_x, patients_train_y, patients_val_x, patients_val_y)\n",
    "clf_rf2_accuracy_score_train, clf_rf2_accuracy_score_val = get_accuracy_score(clf_rf2_model, patients_train_x, patients_train_y, patients_val_x, patients_val_y)\n",
    "\n",
    "print(\"F1 Scores:\")\n",
    "print(\"Train f1-Score score: {:.3f}\".format(clf_rf2_f1_score_train))\n",
    "print(\"Validation f1-Score score: {:.3f}\".format(clf_rf2_f1_score_val))\n",
    "\n",
    "\n",
    "print(\"\\nAccuracy Scores:\")\n",
    "print(\"Train Accuracy-Score score: {:.3f}\".format(clf_rf2_accuracy_score_train))\n",
    "print(\"Validation Accuracy-Score score: {:.3f}\".format(clf_rf2_accuracy_score_val))\n"
   ]
  },
  {
   "cell_type": "markdown",
   "id": "205b2765",
   "metadata": {},
   "source": [
    "> <span style=\"font-size:1em;\"></span> **Decision Trees Section** "
   ]
  },
  {
   "cell_type": "code",
   "execution_count": 24,
   "id": "4b5ad76c",
   "metadata": {
    "scrolled": false
   },
   "outputs": [
    {
     "name": "stdout",
     "output_type": "stream",
     "text": [
      "F1 Scores:\n",
      "Train f1-Score score: 0.740\n",
      "Validation f1-Score score: 0.634\n",
      "\n",
      "Accuracy Scores:\n",
      "Train Accuracy-Score score: 0.797\n",
      "Validation Accuracy-Score score: 0.711\n"
     ]
    }
   ],
   "source": [
    "#Implement a baseline decision tree model (with manual parameter exploration)\n",
    "from sklearn.tree import DecisionTreeClassifier\n",
    "\n",
    "#Model will be named as clf_dt1 (decision tree 1)\n",
    "clf_dt1 = DecisionTreeClassifier(criterion=\"gini\", #entropy provides lower accuracy for both train and validation\n",
    "                                class_weight='balanced', random_state=1, \n",
    "                                max_depth=4, #this is optimum value, beyond this accuracy score for vaidation reduces\n",
    "                                min_samples_leaf=2,\n",
    "                                min_samples_split=2,\n",
    "                                max_features=9, #more than 10 wont work as there are not more features in dataset\n",
    "                                max_leaf_nodes=9   #5(794, 767) and default(813, 733) were also considered; ultimately dropped\n",
    "                               )\n",
    "\n",
    "clf_dt1_model = clf_dt1.fit(patients_train_x, patients_train_y)\n",
    "\n",
    "clf_dt1_f1_score_train, clf_dt1_f1_score_val = get_f1_score(clf_dt1_model, patients_train_x, patients_train_y, patients_val_x, patients_val_y)\n",
    "clf_dt1_accuracy_score_train, clf_dt1_accuracy_score_val = get_accuracy_score(clf_dt1_model, patients_train_x, patients_train_y, patients_val_x, patients_val_y)\n",
    "\n",
    "print(\"F1 Scores:\")\n",
    "print(\"Train f1-Score score: {:.3f}\".format(clf_dt1_f1_score_train))\n",
    "print(\"Validation f1-Score score: {:.3f}\".format(clf_dt1_f1_score_val))\n",
    "\n",
    "\n",
    "print(\"\\nAccuracy Scores:\")\n",
    "print(\"Train Accuracy-Score score: {:.3f}\".format(clf_dt1_accuracy_score_train))\n",
    "print(\"Validation Accuracy-Score score: {:.3f}\".format(clf_dt1_accuracy_score_val))\n"
   ]
  },
  {
   "cell_type": "code",
   "execution_count": 25,
   "id": "d22e0928",
   "metadata": {
    "scrolled": false
   },
   "outputs": [
    {
     "name": "stdout",
     "output_type": "stream",
     "text": [
      "F1 Scores:\n",
      "Train f1-Score score: 0.690\n",
      "Validation f1-Score score: 0.636\n",
      "\n",
      "Accuracy Scores:\n",
      "Train Accuracy-Score score: 0.771\n",
      "Validation Accuracy-Score score: 0.733\n"
     ]
    }
   ],
   "source": [
    "#Implement hyperparameter tuning with parameter ranges\n",
    "from sklearn.model_selection import GridSearchCV\n",
    "\n",
    "#Model will be named as clf_dt2 (decision tree 2)\n",
    "clf_dt2 = DecisionTreeClassifier(criterion=\"gini\", class_weight='balanced', random_state=1\n",
    "                                #min_samples_leaf=3,  #any value default, 1, 2, 3 return the highest train-validation accuracy\n",
    "                                #min_samples_split=2 #larger range provided in below parameters\n",
    "                                #max_depth is used with larger range below\n",
    "                               )\n",
    "\n",
    "#use range of values for 'max_depth' and 'min_sampels_split'\n",
    "parameters = {\n",
    "              'max_depth':np.arange(2,400,50),\n",
    "              'min_samples_split':np.arange(2,50,5),\n",
    "              'min_samples_leaf':np.arange(1,50,5),\n",
    "              'max_features':np.arange(2,10,1),\n",
    "              'max_leaf_nodes':np.arange(3,15,2)\n",
    "             }\n",
    "Gridclf_dt2 = GridSearchCV(clf_dt2, parameters, scoring='f1_macro')\n",
    "\n",
    "Gridclf_dt2.fit(patients_train_x, patients_train_y)\n",
    "\n",
    "clf_dt2 = Gridclf_dt2.best_estimator_\n",
    "\n",
    "clf_dt2_f1_score_train, clf_dt2_f1_score_val = get_f1_score(clf_dt2, patients_train_x, patients_train_y, patients_val_x, patients_val_y)\n",
    "clf_dt2_accuracy_score_train, clf_dt2_accuracy_score_val = get_accuracy_score(clf_dt2, patients_train_x, patients_train_y, patients_val_x, patients_val_y)\n",
    "\n",
    "print(\"F1 Scores:\")\n",
    "print(\"Train f1-Score score: {:.3f}\".format(clf_dt2_f1_score_train))\n",
    "print(\"Validation f1-Score score: {:.3f}\".format(clf_dt2_f1_score_val))\n",
    "\n",
    "\n",
    "print(\"\\nAccuracy Scores:\")\n",
    "print(\"Train Accuracy-Score score: {:.3f}\".format(clf_dt2_accuracy_score_train))\n",
    "print(\"Validation Accuracy-Score score: {:.3f}\".format(clf_dt2_accuracy_score_val))\n"
   ]
  },
  {
   "cell_type": "markdown",
   "id": "8ef8a0ce",
   "metadata": {},
   "source": [
    "> <span style=\"font-size:1em;\"></span> ***Module: 12. Model Performance Analysis & Selection***"
   ]
  },
  {
   "cell_type": "code",
   "execution_count": 26,
   "id": "e0071c96",
   "metadata": {
    "scrolled": true
   },
   "outputs": [
    {
     "name": "stdout",
     "output_type": "stream",
     "text": [
      "model : [train_f1, val_f1, train_accuracy, val_accuracy]\n",
      "nb1 : ['0.654', '0.622', '0.780', '0.750']\n",
      "nb2 : ['0.644', '0.622', '0.778', '0.750']\n",
      "lr1 : ['0.682', '0.705', '0.761', '0.772']\n",
      "lr3 : ['0.682', '0.701', '0.764', '0.772']\n",
      "rf1 : ['0.990', '0.667', '0.993', '0.772']\n",
      "rf2 : ['0.866', '0.661', '0.902', '0.767']\n",
      "dt1 : ['0.740', '0.634', '0.797', '0.711']\n",
      "dt2 : ['0.690', '0.636', '0.771', '0.733']\n"
     ]
    }
   ],
   "source": [
    "#select model basedd on below table\n",
    "\n",
    "model_performance = {'nb1':[clf_nb1_f1_score_train, clf_nb1_f1_score_val, \n",
    "                            clf_nb1_accuracy_score_train, clf_nb1_accuracy_score_val],\n",
    "                     'nb2':[clf_nb2_f1_score_train, clf_nb2_f1_score_val, \n",
    "                            clf_nb2_accuracy_score_train, clf_nb2_accuracy_score_val],\n",
    "                     'lr1':[clf_lr1_f1_score_train, clf_lr1_f1_score_val, \n",
    "                            clf_lr1_accuracy_score_train, clf_lr1_accuracy_score_val],\n",
    "                     'lr3':[clf_lr3_f1_score_train, clf_lr3_f1_score_val, \n",
    "                            clf_lr3_accuracy_score_train, clf_lr3_accuracy_score_val],\n",
    "                     'rf1':[clf_rf1_f1_score_train, clf_rf1_f1_score_val, \n",
    "                            clf_rf1_accuracy_score_train, clf_rf1_accuracy_score_val],\n",
    "                     'rf2':[clf_rf2_f1_score_train, clf_rf2_f1_score_val, \n",
    "                            clf_rf2_accuracy_score_train, clf_rf2_accuracy_score_val],\n",
    "                     'dt1':[clf_dt1_f1_score_train, clf_dt1_f1_score_val, \n",
    "                            clf_dt1_accuracy_score_train, clf_dt1_accuracy_score_val],\n",
    "                     'dt2':[clf_dt2_f1_score_train, clf_dt2_f1_score_val, \n",
    "                            clf_dt2_accuracy_score_train, clf_dt2_accuracy_score_val]}\n",
    "\n",
    "#print a summary of model performances\n",
    "print(\"model : [train_f1, val_f1, train_accuracy, val_accuracy]\")  \n",
    "\n",
    "for key, value in model_performance.items():\n",
    "    print(key,\":\", [ '%.3f' % elem for elem in value ])\n",
    "    \n",
    "#We will look at only the f1 scores (train_f1, val_f1) to identify best model.\n",
    "#We will choose top 3 models, which will be seperately re-trained using cross-validation to increase f1 scores, if possible.\n",
    "#Best model post cross-validation will be chosen as champion model"
   ]
  },
  {
   "cell_type": "markdown",
   "id": "7d394364",
   "metadata": {},
   "source": [
    "> <span style=\"font-size:1em;\"></span> ***Observations: ML Model Training***\n",
    "\n",
    "> - **Random forest 1 (rf1) has the best f1 scores (99%, 67%)**\n",
    ">  - Accuracy scores are also pretty good at (99%, 77%)\n",
    "> - Random forest 2 (rf2) has the second best f1 scores (87%, 66%)\n",
    ">  - Validation score is slightly low (66%), and we require better performance on validation data\n",
    ">  - Accuracy scores are pretty good at (90%, 77%)\n",
    "> - Decision tree 1 (dt1) has the next best f1 scores (74%, 63%)\n",
    ">  - Accuracy is decent (80%, 71%)\n",
    "\n",
    "> - These models will be seperately re-run using cross-validation to try and maximize performance"
   ]
  },
  {
   "cell_type": "markdown",
   "id": "033e3426",
   "metadata": {},
   "source": [
    "> <span style=\"font-size:1em;\"></span> ***Module: 13. Cross-Validation***\n",
    "\n",
    "> - We will try cross-validation on top 1st, 2nd and 3rd model (to see if we get better performance than the 1st model)\n",
    "> - If not, we will go ahead with the top model as our champion model\n",
    "> - **The 1st, 2nd, 3rd model in order of performance are rf1, rf2, dt1**\n",
    "> - We will **union the train-validation datasets** in order to maintain the data transformations for pre-modeling\n",
    ">  - Cross-validation in contrast with hold-out validation do not require 2 datasets (train-validation). Only requires train dataset\n"
   ]
  },
  {
   "cell_type": "code",
   "execution_count": 27,
   "id": "3874a4e7",
   "metadata": {},
   "outputs": [],
   "source": [
    "#CROSS VALIDATION\n",
    "\n",
    "#rbind the datasets in order to maintain the data transformations ofr pre-modeling\n",
    "patients_cv_x = pd.concat([patients_train_x, patients_val_x], axis = 0)\n",
    "patients_cv_y = pd.concat([patients_train_y, patients_val_y], axis = 0)"
   ]
  },
  {
   "cell_type": "code",
   "execution_count": 28,
   "id": "53f0143e",
   "metadata": {
    "scrolled": true
   },
   "outputs": [
    {
     "name": "stdout",
     "output_type": "stream",
     "text": [
      "Train score:  0.9861784558392632\n",
      "Val score:  0.7306540606679676\n"
     ]
    }
   ],
   "source": [
    "#Cross validate the 3 chosen models (re-run models using same parameters as model training using cv = 5 as a starting point)\n",
    "\n",
    "#CV1: random forest 1 (rf1)\n",
    "f1_scorer = make_scorer(f1_score, average='weighted')\n",
    "\n",
    "cv_results = dict()\n",
    "    \n",
    "clf_rf1_cv = RandomForestClassifier(max_depth=8, n_estimators=500, class_weight='balanced_subsample')\n",
    "\n",
    "scores = cross_validate(clf_rf1_cv, patients_cv_x, patients_cv_y.ravel(), \n",
    "                            scoring=f1_scorer, return_estimator=True,\n",
    "                            return_train_score=True, cv=4)\n",
    "\n",
    "val_means = np.mean(scores['test_score'])\n",
    "\n",
    "train_means = np.mean(scores['train_score']) \n",
    "\n",
    "print(\"Train score: \",train_means)\n",
    "print(\"Val score: \",val_means)\n",
    "\n",
    "#Better scores from CV as compared to hold-out validation"
   ]
  },
  {
   "cell_type": "markdown",
   "id": "a3d5ffa3",
   "metadata": {},
   "source": [
    "> <span style=\"font-size:1em;\"></span> **Observations: Cross validation - Random Forest 1**\n",
    "\n",
    "> - The f1 scores are better (99%, 74%)  than hold-out validation (99%, 67%). So we will go ahead with the cross-validated model\n",
    "> - The reason for increase in score is also attributed to optimal cv value (4 provides the best results. better than 3, 5, 6)"
   ]
  },
  {
   "cell_type": "code",
   "execution_count": 29,
   "id": "4db5592e",
   "metadata": {},
   "outputs": [
    {
     "name": "stdout",
     "output_type": "stream",
     "text": [
      "Train score:  0.8896482400988637\n",
      "Val score:  0.7547941656510038\n"
     ]
    }
   ],
   "source": [
    "#CV2: random forest 2 (rf2)\n",
    "f1_scorer = make_scorer(f1_score, average='weighted')\n",
    "    \n",
    "#Implement hyperparameter tuning on random forest\n",
    "parameters = {\n",
    "                 'max_depth':np.arange(2,200,50),\n",
    "                 'min_samples_split':np.arange(2,50,10),\n",
    "                 'min_samples_leaf':np.arange(1,50,10),\n",
    "                 'n_estimators': np.arange(5, 50, 10)\n",
    "              }\n",
    "\n",
    "#Model will be named as clf_rf2 (random forest 2)\n",
    "clf_rf2_cv = RandomForestClassifier(class_weight='balanced_subsample') \n",
    "\n",
    "\n",
    "Gridclf_rf2_cv = GridSearchCV(clf_rf2_cv, parameters)\n",
    "\n",
    "scores = cross_validate(Gridclf_rf2_cv, patients_cv_x, patients_cv_y.ravel(), \n",
    "                        scoring=f1_scorer, return_estimator=True,\n",
    "                        return_train_score=True, cv=5)\n",
    "\n",
    "val_means = np.mean(scores['test_score']) \n",
    "\n",
    "train_means = np.mean(scores['train_score']) \n",
    "            \n",
    "print(\"Train score: \",train_means)\n",
    "print(\"Val score: \",val_means)\n",
    "\n",
    "#As random forest 1 has shown significant improvement over its hold-out version, we will choose the cross-validation model as prediction model"
   ]
  },
  {
   "cell_type": "markdown",
   "id": "baeaa93a",
   "metadata": {},
   "source": [
    "> <span style=\"font-size:1em;\"></span> **Observations: Cross validation - Random Forest 2**\n",
    "\n",
    "> - F1 scores (89%, 76%) are better than the hold-out performance (87%, 66%). So the CV model is considered for the purpose of finding the overall best model\n",
    ">  - Also, cv=5 provides the best results (better than 4, 6)\n"
   ]
  },
  {
   "cell_type": "code",
   "execution_count": 30,
   "id": "b01f540d",
   "metadata": {
    "scrolled": false
   },
   "outputs": [
    {
     "name": "stdout",
     "output_type": "stream",
     "text": [
      "Train score:  0.7878454585385527\n",
      "Val score:  0.7236745349762765\n"
     ]
    }
   ],
   "source": [
    "#CV3: decision tree 1 (dt1)\n",
    "f1_scorer = make_scorer(f1_score, average='weighted')\n",
    "\n",
    "#Model will be named as clf_dt1 (decision tree 1)\n",
    "clf_dt1_cv = DecisionTreeClassifier(criterion=\"gini\", #entropy provides lower accuracy for both train and validation\n",
    "                                class_weight='balanced', random_state=1, \n",
    "                                max_depth=4, #this is optimum value, beyond this accuracy score for vaidation reduces\n",
    "                                min_samples_leaf=2,\n",
    "                                min_samples_split=2,\n",
    "                                max_features=9, #more than 10 wont work as there are not more features in dataset\n",
    "                                max_leaf_nodes=9   #5(794, 767) and default(813, 733) were also considered; ultimately dropped\n",
    "                               )\n",
    "\n",
    "\n",
    "scores = cross_validate(clf_dt1_cv, patients_cv_x, patients_cv_y.ravel(), \n",
    "                        scoring=f1_scorer, return_estimator=True,\n",
    "                        return_train_score=True, cv=6)\n",
    "    \n",
    "\n",
    "val_means =np.mean(scores['test_score']) \n",
    "\n",
    "train_means = np.mean(scores['train_score']) \n",
    "\n",
    "print(\"Train score: \",train_means)\n",
    "print(\"Val score: \",val_means)\n"
   ]
  },
  {
   "cell_type": "markdown",
   "id": "d443ccc2",
   "metadata": {},
   "source": [
    "> <span style=\"font-size:1em;\"></span> **Observations: Cross validation - Decision Tree 1**\n",
    "\n",
    "> - The f1 scores are higher (79%, 72%) than than hold-out validation (74%, 63%). So we will consider this model over the hold-out model\n",
    "> - The reason for increase in score is also attributed to optimal cv value (6 provides the best results. better than 4, 5, 7, 10)"
   ]
  },
  {
   "cell_type": "markdown",
   "id": "ba1dbb96",
   "metadata": {},
   "source": [
    "> <span style=\"font-size:1em;\"></span> **Module: 14. Prediction using champion Model**\n",
    "\n",
    "> - 'Random Forest 1' is chosen as the champion model for prediction (Highest f1 & accuracy scores across train-validation sets and across both hold-out validation and cross-validation)\n",
    "> - Test dataset is imported\n",
    "> - Same transformation as the train dataset are carried out for this dataset\n",
    ">  - removing insuarance column (Sepssis is not present, so doesnt requit=re removal)\n",
    ">  - modify ID column to remove text data\n",
    ">  - standardise columns as fit on train data\n",
    "> - Sepssis is predicted for the dataset\n",
    "> - Sense check: Multiple 0s and 1s available in the predicted column. No skew towards just 0s or just 1s\n",
    "> - Predicted values which are 0/1 are converted to Positive/Negative\n",
    "> - Prediction data is concatenated with test data (column bind)\n",
    "> - prediction data is exported to csv for submission"
   ]
  },
  {
   "cell_type": "code",
   "execution_count": 31,
   "id": "d89e2c9d",
   "metadata": {
    "scrolled": true
   },
   "outputs": [],
   "source": [
    "#prediction\n",
    "#Random forest 1 is chosen as the best model due to higher train accuracy and a high validation accuracy\n",
    "#We will test on the prediction data\n",
    "patients_test = pd.read_csv(\"Paitients_Files_Test.csv\")       \n",
    "patients_test_copy = patients_test\n",
    "\n",
    "#make changes similar to train data\n",
    "patients_test = patients_test.drop(columns = ['Insurance'], axis=1)\n",
    "patients_test['ID'] = patients_test['ID'].replace('ICU', '', regex=True)"
   ]
  },
  {
   "cell_type": "code",
   "execution_count": 32,
   "id": "3ba82b6d",
   "metadata": {},
   "outputs": [],
   "source": [
    "#transform prediction data as per training data transformations\n",
    "#PRG\n",
    "patients_test['PRG'] = std_scalar_prg.transform(patients_test[['PRG']])\n",
    "#PL\n",
    "patients_test['PL'] = std_scalar_pl.transform(patients_test[['PL']])\n",
    "#PR\n",
    "patients_test['PR'] = std_scalar_pr.transform(patients_test[['PR']])\n",
    "#SK\n",
    "patients_test['SK'] = std_scalar_sk.transform(patients_test[['SK']])\n",
    "#TS\n",
    "patients_test['TS'] = std_scalar_ts.transform(patients_test[['TS']])\n",
    "#M11\n",
    "patients_test['M11'] = std_scalar_m11.transform(patients_test[['M11']])\n",
    "#BD2\n",
    "patients_test['BD2'] = std_scalar_bd2.transform(patients_test[['BD2']])\n",
    "#Age\n",
    "patients_test['Age'] = std_scalar_age.transform(patients_test[['Age']])"
   ]
  },
  {
   "cell_type": "code",
   "execution_count": 33,
   "id": "df130e44",
   "metadata": {},
   "outputs": [
    {
     "data": {
      "text/html": [
       "<div>\n",
       "<style scoped>\n",
       "    .dataframe tbody tr th:only-of-type {\n",
       "        vertical-align: middle;\n",
       "    }\n",
       "\n",
       "    .dataframe tbody tr th {\n",
       "        vertical-align: top;\n",
       "    }\n",
       "\n",
       "    .dataframe thead th {\n",
       "        text-align: right;\n",
       "    }\n",
       "</style>\n",
       "<table border=\"1\" class=\"dataframe\">\n",
       "  <thead>\n",
       "    <tr style=\"text-align: right;\">\n",
       "      <th></th>\n",
       "      <th>ID</th>\n",
       "      <th>PRG</th>\n",
       "      <th>PL</th>\n",
       "      <th>PR</th>\n",
       "      <th>SK</th>\n",
       "      <th>TS</th>\n",
       "      <th>M11</th>\n",
       "      <th>BD2</th>\n",
       "      <th>Age</th>\n",
       "      <th>Insurance</th>\n",
       "      <th>Sepssis</th>\n",
       "    </tr>\n",
       "  </thead>\n",
       "  <tbody>\n",
       "    <tr>\n",
       "      <th>0</th>\n",
       "      <td>ICU200609</td>\n",
       "      <td>1</td>\n",
       "      <td>109</td>\n",
       "      <td>38</td>\n",
       "      <td>18</td>\n",
       "      <td>120</td>\n",
       "      <td>23.1</td>\n",
       "      <td>0.407</td>\n",
       "      <td>26</td>\n",
       "      <td>1</td>\n",
       "      <td>Negative</td>\n",
       "    </tr>\n",
       "    <tr>\n",
       "      <th>1</th>\n",
       "      <td>ICU200610</td>\n",
       "      <td>1</td>\n",
       "      <td>108</td>\n",
       "      <td>88</td>\n",
       "      <td>19</td>\n",
       "      <td>0</td>\n",
       "      <td>27.1</td>\n",
       "      <td>0.400</td>\n",
       "      <td>24</td>\n",
       "      <td>1</td>\n",
       "      <td>Negative</td>\n",
       "    </tr>\n",
       "    <tr>\n",
       "      <th>2</th>\n",
       "      <td>ICU200611</td>\n",
       "      <td>6</td>\n",
       "      <td>96</td>\n",
       "      <td>0</td>\n",
       "      <td>0</td>\n",
       "      <td>0</td>\n",
       "      <td>23.7</td>\n",
       "      <td>0.190</td>\n",
       "      <td>28</td>\n",
       "      <td>1</td>\n",
       "      <td>Negative</td>\n",
       "    </tr>\n",
       "    <tr>\n",
       "      <th>3</th>\n",
       "      <td>ICU200612</td>\n",
       "      <td>1</td>\n",
       "      <td>124</td>\n",
       "      <td>74</td>\n",
       "      <td>36</td>\n",
       "      <td>0</td>\n",
       "      <td>27.8</td>\n",
       "      <td>0.100</td>\n",
       "      <td>30</td>\n",
       "      <td>1</td>\n",
       "      <td>Negative</td>\n",
       "    </tr>\n",
       "    <tr>\n",
       "      <th>4</th>\n",
       "      <td>ICU200613</td>\n",
       "      <td>7</td>\n",
       "      <td>150</td>\n",
       "      <td>78</td>\n",
       "      <td>29</td>\n",
       "      <td>126</td>\n",
       "      <td>35.2</td>\n",
       "      <td>0.692</td>\n",
       "      <td>54</td>\n",
       "      <td>0</td>\n",
       "      <td>Positive</td>\n",
       "    </tr>\n",
       "    <tr>\n",
       "      <th>...</th>\n",
       "      <td>...</td>\n",
       "      <td>...</td>\n",
       "      <td>...</td>\n",
       "      <td>...</td>\n",
       "      <td>...</td>\n",
       "      <td>...</td>\n",
       "      <td>...</td>\n",
       "      <td>...</td>\n",
       "      <td>...</td>\n",
       "      <td>...</td>\n",
       "      <td>...</td>\n",
       "    </tr>\n",
       "    <tr>\n",
       "      <th>164</th>\n",
       "      <td>ICU200773</td>\n",
       "      <td>10</td>\n",
       "      <td>101</td>\n",
       "      <td>76</td>\n",
       "      <td>48</td>\n",
       "      <td>180</td>\n",
       "      <td>32.9</td>\n",
       "      <td>0.171</td>\n",
       "      <td>63</td>\n",
       "      <td>1</td>\n",
       "      <td>Negative</td>\n",
       "    </tr>\n",
       "    <tr>\n",
       "      <th>165</th>\n",
       "      <td>ICU200774</td>\n",
       "      <td>2</td>\n",
       "      <td>122</td>\n",
       "      <td>70</td>\n",
       "      <td>27</td>\n",
       "      <td>0</td>\n",
       "      <td>36.8</td>\n",
       "      <td>0.340</td>\n",
       "      <td>27</td>\n",
       "      <td>1</td>\n",
       "      <td>Negative</td>\n",
       "    </tr>\n",
       "    <tr>\n",
       "      <th>166</th>\n",
       "      <td>ICU200775</td>\n",
       "      <td>5</td>\n",
       "      <td>121</td>\n",
       "      <td>72</td>\n",
       "      <td>23</td>\n",
       "      <td>112</td>\n",
       "      <td>26.2</td>\n",
       "      <td>0.245</td>\n",
       "      <td>30</td>\n",
       "      <td>1</td>\n",
       "      <td>Negative</td>\n",
       "    </tr>\n",
       "    <tr>\n",
       "      <th>167</th>\n",
       "      <td>ICU200776</td>\n",
       "      <td>1</td>\n",
       "      <td>126</td>\n",
       "      <td>60</td>\n",
       "      <td>0</td>\n",
       "      <td>0</td>\n",
       "      <td>30.1</td>\n",
       "      <td>0.349</td>\n",
       "      <td>47</td>\n",
       "      <td>1</td>\n",
       "      <td>Positive</td>\n",
       "    </tr>\n",
       "    <tr>\n",
       "      <th>168</th>\n",
       "      <td>ICU200777</td>\n",
       "      <td>1</td>\n",
       "      <td>93</td>\n",
       "      <td>70</td>\n",
       "      <td>31</td>\n",
       "      <td>0</td>\n",
       "      <td>30.4</td>\n",
       "      <td>0.315</td>\n",
       "      <td>23</td>\n",
       "      <td>1</td>\n",
       "      <td>Negative</td>\n",
       "    </tr>\n",
       "  </tbody>\n",
       "</table>\n",
       "<p>169 rows × 11 columns</p>\n",
       "</div>"
      ],
      "text/plain": [
       "            ID  PRG   PL  PR  SK   TS   M11    BD2  Age  Insurance   Sepssis\n",
       "0    ICU200609    1  109  38  18  120  23.1  0.407   26          1  Negative\n",
       "1    ICU200610    1  108  88  19    0  27.1  0.400   24          1  Negative\n",
       "2    ICU200611    6   96   0   0    0  23.7  0.190   28          1  Negative\n",
       "3    ICU200612    1  124  74  36    0  27.8  0.100   30          1  Negative\n",
       "4    ICU200613    7  150  78  29  126  35.2  0.692   54          0  Positive\n",
       "..         ...  ...  ...  ..  ..  ...   ...    ...  ...        ...       ...\n",
       "164  ICU200773   10  101  76  48  180  32.9  0.171   63          1  Negative\n",
       "165  ICU200774    2  122  70  27    0  36.8  0.340   27          1  Negative\n",
       "166  ICU200775    5  121  72  23  112  26.2  0.245   30          1  Negative\n",
       "167  ICU200776    1  126  60   0    0  30.1  0.349   47          1  Positive\n",
       "168  ICU200777    1   93  70  31    0  30.4  0.315   23          1  Negative\n",
       "\n",
       "[169 rows x 11 columns]"
      ]
     },
     "execution_count": 33,
     "metadata": {},
     "output_type": "execute_result"
    }
   ],
   "source": [
    "#train the chosen model on train data (during cross-validation, multiple fits were implemented on various sub-sets of data, but the model is yet to be fit on the full data)\n",
    "clf_rf1_cv.fit(patients_cv_x, patients_cv_y)\n",
    "\n",
    "#predict on test dataset\n",
    "paitents_pred = clf_rf1_cv.predict(patients_test)\n",
    "\n",
    "#add independent variables and predicted variables into a single dataset\n",
    "patients_predicted = pd.concat([patients_test_copy, pd.Series(paitents_pred).rename('Sepssis')], axis=1)                        \n",
    "\n",
    "#convert 0/1 to positive/negative\n",
    "patients_predicted['Sepssis'] = np.where(patients_predicted['Sepssis'] == 1, \"Positive\", \"Negative\")\n",
    "\n",
    "#export prediction dataset\n",
    "patients_predicted.to_csv(\"patients_predicted.csv\", index=False)\n",
    "\n",
    "patients_predicted"
   ]
  },
  {
   "cell_type": "markdown",
   "id": "f6934b74",
   "metadata": {},
   "source": [
    "> <span style=\"font-size:1em;\"></span> **Limitations and Improvements**\n",
    "\n",
    "> - While the model has high train accuracy (99%), the test accuracy across k-folds was around 74%\n",
    ">  - So there is ~25-26% wrong predictions at the highest\n",
    ">  - The model can possibly be improved by exploring many more combinations of random forest parameters, although random forest by definition is an ensemble model, so cannot expect significant improvements\n",
    "> - This being a problem belonging to the medical industry, it is very important to ensure there are the least False Negatives\n",
    ">  - i.e. ensure you capture all the actual positives, and in this scenario, and False Positives take second precedence (i.e. goal is minimize TN)\n",
    "> - Given that F1 scores treat FN, FP equally, the above scenario cannot be identified directly using the current performance evaluation framework\n",
    ">  - Requires modifying the performance evaluation framework (i.e. minimize FN OR maximize recall (TP/TP+TN))\n",
    "> - Our chosen model can be futher improved by collecting more training data (and using cross-validation specifically to maximize usage of given data for training)\n",
    "> - We can also find more variables to add to our model, and we can run exploratory analysis to determine relevance to model\n",
    "> - Further, we can employ deep learning models to explore the possibility of a better model"
   ]
  },
  {
   "cell_type": "markdown",
   "id": "b623a25f",
   "metadata": {},
   "source": [
    "> <span style=\"font-size:1em;\"></span> **Ultimate Judgement (continuation of above limitations and improvements)**\n",
    "\n",
    "> - 9 models were run under the hold-out validation framework (2 naive bayes, 3 logistic regression, 2 random forests, 2 decision trees\n",
    "> - 3 models with high f1 scores were chosen to be re-run using cross-validation techniques (in order to obtain better accuracy, wherever applicable)\n",
    ">  - random forest 1, random forest 2, decision tree 1\n",
    "> - We obtained better performance on all models\n",
    "> - random forest model (cross-validated) was chosen at the final model with a final accuracy of (99% train, 74% test) for cross-validation tests\n",
    "> - This model is chosen at the best representative of the relationships between independent and dependent variables and can be used to predict Sepssis in any new test data with independent variables\n",
    "> - f1 scores were used to obtain a better influence of precision and recall (i.e. FP and FN respectively). Accuracy score doesn't capture the same impact of false predictions\n",
    "> - **The chosen model will do well to predict Sepssis on real-world data**"
   ]
  },
  {
   "cell_type": "code",
   "execution_count": null,
   "id": "192ff327",
   "metadata": {},
   "outputs": [],
   "source": []
  }
 ],
 "metadata": {
  "kernelspec": {
   "display_name": "Python 3",
   "language": "python",
   "name": "python3"
  },
  "language_info": {
   "codemirror_mode": {
    "name": "ipython",
    "version": 3
   },
   "file_extension": ".py",
   "mimetype": "text/x-python",
   "name": "python",
   "nbconvert_exporter": "python",
   "pygments_lexer": "ipython3",
   "version": "3.8.8"
  }
 },
 "nbformat": 4,
 "nbformat_minor": 5
}
